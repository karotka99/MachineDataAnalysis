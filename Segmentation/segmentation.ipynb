{
  "nbformat": 4,
  "nbformat_minor": 0,
  "metadata": {
    "colab": {
      "provenance": []
    },
    "kernelspec": {
      "name": "python3",
      "display_name": "Python 3"
    },
    "language_info": {
      "name": "python"
    }
  },
  "cells": [
    {
      "cell_type": "markdown",
      "source": [
        " Karolina Tatarczyk "
      ],
      "metadata": {
        "id": "mjVgHJjWk84j"
      }
    },
    {
      "cell_type": "markdown",
      "source": [
        "#### A program that will allow segmentation of car models, using clustering methods."
      ],
      "metadata": {
        "id": "kGJ2nyvfk8wR"
      }
    },
    {
      "cell_type": "markdown",
      "source": [
        "## Import bibliotek"
      ],
      "metadata": {
        "id": "Ni38l9DOlz0l"
      }
    },
    {
      "cell_type": "code",
      "execution_count": null,
      "metadata": {
        "id": "0gATAnTwiUBw"
      },
      "outputs": [],
      "source": [
        "import numpy as np\n",
        "import pandas as pd\n",
        "from plotnine import *\n",
        "\n",
        "from scipy import stats\n",
        "\n",
        "from sklearn.mixture import GaussianMixture\n",
        "from sklearn.cluster import DBSCAN\n",
        "from sklearn.cluster import KMeans\n",
        "from sklearn.metrics import silhouette_score\n",
        "\n",
        "from sklearn.datasets import make_classification\n",
        "\n",
        "from sklearn.datasets import make_blobs\n",
        "from sklearn.datasets import make_moons\n",
        "from sklearn.datasets import make_circles\n",
        "\n",
        "from sklearn.preprocessing import StandardScaler"
      ]
    },
    {
      "cell_type": "markdown",
      "source": [
        "## Przygotowanie bazy danych"
      ],
      "metadata": {
        "id": "jQss6in6l34N"
      }
    },
    {
      "cell_type": "code",
      "source": [
        "df= pd.read_csv(\"auta.csv\", index_col=0)\n",
        "df.head()"
      ],
      "metadata": {
        "colab": {
          "base_uri": "https://localhost:8080/",
          "height": 206
        },
        "id": "oSJwB0MZiZR4",
        "outputId": "b12e1b36-bac1-4999-8cba-261a87832071"
      },
      "execution_count": null,
      "outputs": [
        {
          "output_type": "execute_result",
          "data": {
            "text/plain": [
              "             Cena  Przebieg  Pojemnosc   KM  diesle\n",
              "Audi A3   20900.0  164450.0     1896.0  110    66.9\n",
              "Audi A4   25311.4  182000.0     1900.0  130    75.7\n",
              "Audi A6   31500.0  185000.0     2496.0  170    82.5\n",
              "Audi A8  109000.0  129380.0     4134.0  300    68.1\n",
              "Audi Q7  179000.0   72000.0     3000.0  240    89.1"
            ],
            "text/html": [
              "\n",
              "  <div id=\"df-dc96c6f8-09be-4022-89a3-2361e4da9348\">\n",
              "    <div class=\"colab-df-container\">\n",
              "      <div>\n",
              "<style scoped>\n",
              "    .dataframe tbody tr th:only-of-type {\n",
              "        vertical-align: middle;\n",
              "    }\n",
              "\n",
              "    .dataframe tbody tr th {\n",
              "        vertical-align: top;\n",
              "    }\n",
              "\n",
              "    .dataframe thead th {\n",
              "        text-align: right;\n",
              "    }\n",
              "</style>\n",
              "<table border=\"1\" class=\"dataframe\">\n",
              "  <thead>\n",
              "    <tr style=\"text-align: right;\">\n",
              "      <th></th>\n",
              "      <th>Cena</th>\n",
              "      <th>Przebieg</th>\n",
              "      <th>Pojemnosc</th>\n",
              "      <th>KM</th>\n",
              "      <th>diesle</th>\n",
              "    </tr>\n",
              "  </thead>\n",
              "  <tbody>\n",
              "    <tr>\n",
              "      <th>Audi A3</th>\n",
              "      <td>20900.0</td>\n",
              "      <td>164450.0</td>\n",
              "      <td>1896.0</td>\n",
              "      <td>110</td>\n",
              "      <td>66.9</td>\n",
              "    </tr>\n",
              "    <tr>\n",
              "      <th>Audi A4</th>\n",
              "      <td>25311.4</td>\n",
              "      <td>182000.0</td>\n",
              "      <td>1900.0</td>\n",
              "      <td>130</td>\n",
              "      <td>75.7</td>\n",
              "    </tr>\n",
              "    <tr>\n",
              "      <th>Audi A6</th>\n",
              "      <td>31500.0</td>\n",
              "      <td>185000.0</td>\n",
              "      <td>2496.0</td>\n",
              "      <td>170</td>\n",
              "      <td>82.5</td>\n",
              "    </tr>\n",
              "    <tr>\n",
              "      <th>Audi A8</th>\n",
              "      <td>109000.0</td>\n",
              "      <td>129380.0</td>\n",
              "      <td>4134.0</td>\n",
              "      <td>300</td>\n",
              "      <td>68.1</td>\n",
              "    </tr>\n",
              "    <tr>\n",
              "      <th>Audi Q7</th>\n",
              "      <td>179000.0</td>\n",
              "      <td>72000.0</td>\n",
              "      <td>3000.0</td>\n",
              "      <td>240</td>\n",
              "      <td>89.1</td>\n",
              "    </tr>\n",
              "  </tbody>\n",
              "</table>\n",
              "</div>\n",
              "      <button class=\"colab-df-convert\" onclick=\"convertToInteractive('df-dc96c6f8-09be-4022-89a3-2361e4da9348')\"\n",
              "              title=\"Convert this dataframe to an interactive table.\"\n",
              "              style=\"display:none;\">\n",
              "        \n",
              "  <svg xmlns=\"http://www.w3.org/2000/svg\" height=\"24px\"viewBox=\"0 0 24 24\"\n",
              "       width=\"24px\">\n",
              "    <path d=\"M0 0h24v24H0V0z\" fill=\"none\"/>\n",
              "    <path d=\"M18.56 5.44l.94 2.06.94-2.06 2.06-.94-2.06-.94-.94-2.06-.94 2.06-2.06.94zm-11 1L8.5 8.5l.94-2.06 2.06-.94-2.06-.94L8.5 2.5l-.94 2.06-2.06.94zm10 10l.94 2.06.94-2.06 2.06-.94-2.06-.94-.94-2.06-.94 2.06-2.06.94z\"/><path d=\"M17.41 7.96l-1.37-1.37c-.4-.4-.92-.59-1.43-.59-.52 0-1.04.2-1.43.59L10.3 9.45l-7.72 7.72c-.78.78-.78 2.05 0 2.83L4 21.41c.39.39.9.59 1.41.59.51 0 1.02-.2 1.41-.59l7.78-7.78 2.81-2.81c.8-.78.8-2.07 0-2.86zM5.41 20L4 18.59l7.72-7.72 1.47 1.35L5.41 20z\"/>\n",
              "  </svg>\n",
              "      </button>\n",
              "      \n",
              "  <style>\n",
              "    .colab-df-container {\n",
              "      display:flex;\n",
              "      flex-wrap:wrap;\n",
              "      gap: 12px;\n",
              "    }\n",
              "\n",
              "    .colab-df-convert {\n",
              "      background-color: #E8F0FE;\n",
              "      border: none;\n",
              "      border-radius: 50%;\n",
              "      cursor: pointer;\n",
              "      display: none;\n",
              "      fill: #1967D2;\n",
              "      height: 32px;\n",
              "      padding: 0 0 0 0;\n",
              "      width: 32px;\n",
              "    }\n",
              "\n",
              "    .colab-df-convert:hover {\n",
              "      background-color: #E2EBFA;\n",
              "      box-shadow: 0px 1px 2px rgba(60, 64, 67, 0.3), 0px 1px 3px 1px rgba(60, 64, 67, 0.15);\n",
              "      fill: #174EA6;\n",
              "    }\n",
              "\n",
              "    [theme=dark] .colab-df-convert {\n",
              "      background-color: #3B4455;\n",
              "      fill: #D2E3FC;\n",
              "    }\n",
              "\n",
              "    [theme=dark] .colab-df-convert:hover {\n",
              "      background-color: #434B5C;\n",
              "      box-shadow: 0px 1px 3px 1px rgba(0, 0, 0, 0.15);\n",
              "      filter: drop-shadow(0px 1px 2px rgba(0, 0, 0, 0.3));\n",
              "      fill: #FFFFFF;\n",
              "    }\n",
              "  </style>\n",
              "\n",
              "      <script>\n",
              "        const buttonEl =\n",
              "          document.querySelector('#df-dc96c6f8-09be-4022-89a3-2361e4da9348 button.colab-df-convert');\n",
              "        buttonEl.style.display =\n",
              "          google.colab.kernel.accessAllowed ? 'block' : 'none';\n",
              "\n",
              "        async function convertToInteractive(key) {\n",
              "          const element = document.querySelector('#df-dc96c6f8-09be-4022-89a3-2361e4da9348');\n",
              "          const dataTable =\n",
              "            await google.colab.kernel.invokeFunction('convertToInteractive',\n",
              "                                                     [key], {});\n",
              "          if (!dataTable) return;\n",
              "\n",
              "          const docLinkHtml = 'Like what you see? Visit the ' +\n",
              "            '<a target=\"_blank\" href=https://colab.research.google.com/notebooks/data_table.ipynb>data table notebook</a>'\n",
              "            + ' to learn more about interactive tables.';\n",
              "          element.innerHTML = '';\n",
              "          dataTable['output_type'] = 'display_data';\n",
              "          await google.colab.output.renderOutput(dataTable, element);\n",
              "          const docLink = document.createElement('div');\n",
              "          docLink.innerHTML = docLinkHtml;\n",
              "          element.appendChild(docLink);\n",
              "        }\n",
              "      </script>\n",
              "    </div>\n",
              "  </div>\n",
              "  "
            ]
          },
          "metadata": {},
          "execution_count": 6
        }
      ]
    },
    {
      "cell_type": "markdown",
      "source": [
        "## Standaryzacja danych"
      ],
      "metadata": {
        "id": "wa1tE6G6mGt7"
      }
    },
    {
      "cell_type": "code",
      "source": [
        "z = StandardScaler()\n",
        "\n",
        "auta = df.copy()\n",
        "auta[auta.columns]=z.fit_transform(df[df.columns])\n",
        "auta.head()"
      ],
      "metadata": {
        "colab": {
          "base_uri": "https://localhost:8080/",
          "height": 206
        },
        "id": "jTyxGmQyiZTX",
        "outputId": "b619a50e-6312-4196-cdb5-f5451f40f4bb"
      },
      "execution_count": null,
      "outputs": [
        {
          "output_type": "execute_result",
          "data": {
            "text/plain": [
              "             Cena  Przebieg  Pojemnosc        KM    diesle\n",
              "Audi A3 -0.198580  0.484563  -0.017676 -0.248784  0.040064\n",
              "Audi A4 -0.055174  0.944320  -0.009643  0.202004  0.458097\n",
              "Audi A6  0.146007  1.022911   1.187258  1.103579  0.781122\n",
              "Audi A8  2.665391 -0.434164   4.476727  4.033697  0.097069\n",
              "Audi Q7  4.940965 -1.937346   2.199402  2.681335  1.094646"
            ],
            "text/html": [
              "\n",
              "  <div id=\"df-1c143895-8bc0-4184-a4de-393960932de3\">\n",
              "    <div class=\"colab-df-container\">\n",
              "      <div>\n",
              "<style scoped>\n",
              "    .dataframe tbody tr th:only-of-type {\n",
              "        vertical-align: middle;\n",
              "    }\n",
              "\n",
              "    .dataframe tbody tr th {\n",
              "        vertical-align: top;\n",
              "    }\n",
              "\n",
              "    .dataframe thead th {\n",
              "        text-align: right;\n",
              "    }\n",
              "</style>\n",
              "<table border=\"1\" class=\"dataframe\">\n",
              "  <thead>\n",
              "    <tr style=\"text-align: right;\">\n",
              "      <th></th>\n",
              "      <th>Cena</th>\n",
              "      <th>Przebieg</th>\n",
              "      <th>Pojemnosc</th>\n",
              "      <th>KM</th>\n",
              "      <th>diesle</th>\n",
              "    </tr>\n",
              "  </thead>\n",
              "  <tbody>\n",
              "    <tr>\n",
              "      <th>Audi A3</th>\n",
              "      <td>-0.198580</td>\n",
              "      <td>0.484563</td>\n",
              "      <td>-0.017676</td>\n",
              "      <td>-0.248784</td>\n",
              "      <td>0.040064</td>\n",
              "    </tr>\n",
              "    <tr>\n",
              "      <th>Audi A4</th>\n",
              "      <td>-0.055174</td>\n",
              "      <td>0.944320</td>\n",
              "      <td>-0.009643</td>\n",
              "      <td>0.202004</td>\n",
              "      <td>0.458097</td>\n",
              "    </tr>\n",
              "    <tr>\n",
              "      <th>Audi A6</th>\n",
              "      <td>0.146007</td>\n",
              "      <td>1.022911</td>\n",
              "      <td>1.187258</td>\n",
              "      <td>1.103579</td>\n",
              "      <td>0.781122</td>\n",
              "    </tr>\n",
              "    <tr>\n",
              "      <th>Audi A8</th>\n",
              "      <td>2.665391</td>\n",
              "      <td>-0.434164</td>\n",
              "      <td>4.476727</td>\n",
              "      <td>4.033697</td>\n",
              "      <td>0.097069</td>\n",
              "    </tr>\n",
              "    <tr>\n",
              "      <th>Audi Q7</th>\n",
              "      <td>4.940965</td>\n",
              "      <td>-1.937346</td>\n",
              "      <td>2.199402</td>\n",
              "      <td>2.681335</td>\n",
              "      <td>1.094646</td>\n",
              "    </tr>\n",
              "  </tbody>\n",
              "</table>\n",
              "</div>\n",
              "      <button class=\"colab-df-convert\" onclick=\"convertToInteractive('df-1c143895-8bc0-4184-a4de-393960932de3')\"\n",
              "              title=\"Convert this dataframe to an interactive table.\"\n",
              "              style=\"display:none;\">\n",
              "        \n",
              "  <svg xmlns=\"http://www.w3.org/2000/svg\" height=\"24px\"viewBox=\"0 0 24 24\"\n",
              "       width=\"24px\">\n",
              "    <path d=\"M0 0h24v24H0V0z\" fill=\"none\"/>\n",
              "    <path d=\"M18.56 5.44l.94 2.06.94-2.06 2.06-.94-2.06-.94-.94-2.06-.94 2.06-2.06.94zm-11 1L8.5 8.5l.94-2.06 2.06-.94-2.06-.94L8.5 2.5l-.94 2.06-2.06.94zm10 10l.94 2.06.94-2.06 2.06-.94-2.06-.94-.94-2.06-.94 2.06-2.06.94z\"/><path d=\"M17.41 7.96l-1.37-1.37c-.4-.4-.92-.59-1.43-.59-.52 0-1.04.2-1.43.59L10.3 9.45l-7.72 7.72c-.78.78-.78 2.05 0 2.83L4 21.41c.39.39.9.59 1.41.59.51 0 1.02-.2 1.41-.59l7.78-7.78 2.81-2.81c.8-.78.8-2.07 0-2.86zM5.41 20L4 18.59l7.72-7.72 1.47 1.35L5.41 20z\"/>\n",
              "  </svg>\n",
              "      </button>\n",
              "      \n",
              "  <style>\n",
              "    .colab-df-container {\n",
              "      display:flex;\n",
              "      flex-wrap:wrap;\n",
              "      gap: 12px;\n",
              "    }\n",
              "\n",
              "    .colab-df-convert {\n",
              "      background-color: #E8F0FE;\n",
              "      border: none;\n",
              "      border-radius: 50%;\n",
              "      cursor: pointer;\n",
              "      display: none;\n",
              "      fill: #1967D2;\n",
              "      height: 32px;\n",
              "      padding: 0 0 0 0;\n",
              "      width: 32px;\n",
              "    }\n",
              "\n",
              "    .colab-df-convert:hover {\n",
              "      background-color: #E2EBFA;\n",
              "      box-shadow: 0px 1px 2px rgba(60, 64, 67, 0.3), 0px 1px 3px 1px rgba(60, 64, 67, 0.15);\n",
              "      fill: #174EA6;\n",
              "    }\n",
              "\n",
              "    [theme=dark] .colab-df-convert {\n",
              "      background-color: #3B4455;\n",
              "      fill: #D2E3FC;\n",
              "    }\n",
              "\n",
              "    [theme=dark] .colab-df-convert:hover {\n",
              "      background-color: #434B5C;\n",
              "      box-shadow: 0px 1px 3px 1px rgba(0, 0, 0, 0.15);\n",
              "      filter: drop-shadow(0px 1px 2px rgba(0, 0, 0, 0.3));\n",
              "      fill: #FFFFFF;\n",
              "    }\n",
              "  </style>\n",
              "\n",
              "      <script>\n",
              "        const buttonEl =\n",
              "          document.querySelector('#df-1c143895-8bc0-4184-a4de-393960932de3 button.colab-df-convert');\n",
              "        buttonEl.style.display =\n",
              "          google.colab.kernel.accessAllowed ? 'block' : 'none';\n",
              "\n",
              "        async function convertToInteractive(key) {\n",
              "          const element = document.querySelector('#df-1c143895-8bc0-4184-a4de-393960932de3');\n",
              "          const dataTable =\n",
              "            await google.colab.kernel.invokeFunction('convertToInteractive',\n",
              "                                                     [key], {});\n",
              "          if (!dataTable) return;\n",
              "\n",
              "          const docLinkHtml = 'Like what you see? Visit the ' +\n",
              "            '<a target=\"_blank\" href=https://colab.research.google.com/notebooks/data_table.ipynb>data table notebook</a>'\n",
              "            + ' to learn more about interactive tables.';\n",
              "          element.innerHTML = '';\n",
              "          dataTable['output_type'] = 'display_data';\n",
              "          await google.colab.output.renderOutput(dataTable, element);\n",
              "          const docLink = document.createElement('div');\n",
              "          docLink.innerHTML = docLinkHtml;\n",
              "          element.appendChild(docLink);\n",
              "        }\n",
              "      </script>\n",
              "    </div>\n",
              "  </div>\n",
              "  "
            ]
          },
          "metadata": {},
          "execution_count": 9
        }
      ]
    },
    {
      "cell_type": "markdown",
      "source": [
        "# Grupowanie metodą K-średnich"
      ],
      "metadata": {
        "id": "8JfIlShlkWI5"
      }
    },
    {
      "cell_type": "code",
      "source": [
        "km=KMeans(n_clusters=2).fit(auta)\n",
        "\n",
        "auta['klastry']= km.labels_\n",
        "\n",
        "(ggplot(auta, aes(x = 'klastry', fill = 'factor(klastry)')) +\n",
        " geom_bar() +\n",
        " theme_minimal()+\n",
        " labs(x = 'Klastry', y='liczebność')\n",
        ")"
      ],
      "metadata": {
        "colab": {
          "base_uri": "https://localhost:8080/",
          "height": 477
        },
        "id": "Hv_8zW_QiZYH",
        "outputId": "30bc7020-3c88-4edf-d65c-ad0370dcc500"
      },
      "execution_count": null,
      "outputs": [
        {
          "output_type": "display_data",
          "data": {
            "text/plain": [
              "<Figure size 640x480 with 1 Axes>"
            ],
            "image/png": "[encoded data removed]"
          },
          "metadata": {
            "needs_background": "light"
          }
        },
        {
          "output_type": "execute_result",
          "data": {
            "text/plain": [
              "<ggplot: (8773078913829)>"
            ]
          },
          "metadata": {},
          "execution_count": 18
        }
      ]
    },
    {
      "cell_type": "markdown",
      "source": [
        "Widoczna jest mocna dysproporcja liczności klastrów, dlatego też decyduję się na wybór większej ilości klastrów."
      ],
      "metadata": {
        "id": "jIt6ntKenm5h"
      }
    },
    {
      "cell_type": "code",
      "source": [
        "km=KMeans(n_clusters=3).fit(auta)\n",
        "\n",
        "df['klastry_KM']=km.labels_\n",
        "auta.head()\n",
        "\n",
        "(ggplot(auta, aes(x = 'klastry_KM', fill = 'factor(klastry_KM)')) +\n",
        " geom_bar() +\n",
        " theme_minimal()+\n",
        " labs(x = 'Klastry', y='liczebność')\n",
        ")"
      ],
      "metadata": {
        "colab": {
          "base_uri": "https://localhost:8080/",
          "height": 477
        },
        "id": "gizx5gbwiZZz",
        "outputId": "4f2befe4-86f0-4039-cc78-cf2f6be89329"
      },
      "execution_count": null,
      "outputs": [
        {
          "output_type": "display_data",
          "data": {
            "text/plain": [
              "<Figure size 640x480 with 1 Axes>"
            ],
            "image/png": "[encoded data removed]"
          },
          "metadata": {
            "needs_background": "light"
          }
        },
        {
          "output_type": "execute_result",
          "data": {
            "text/plain": [
              "<ggplot: (8773081835813)>"
            ]
          },
          "metadata": {},
          "execution_count": 19
        }
      ]
    },
    {
      "cell_type": "markdown",
      "source": [
        "W tym przypadku znowu jeden z klastrów ma małą liczność. Można więc wnioskować że te kilka samochodów mocno odbiega od innych. Przystąpię teraz do analizy wszystkich czynników oraz ich różnic w każdym z klastrów."
      ],
      "metadata": {
        "id": "NzASQSHWn2uU"
      }
    },
    {
      "cell_type": "code",
      "source": [
        "for zm in df.columns[:-1]:\n",
        "  print((ggplot(df, aes(x='factor(klastry_KM)', y= zm, fill = 'factor(klastry_KM)')) +\n",
        "    geom_boxplot(show_legend = False) +\n",
        "    theme_minimal() +\n",
        "    labs(x = 'Klastry', title = zm)\n",
        "    ))"
      ],
      "metadata": {
        "colab": {
          "base_uri": "https://localhost:8080/",
          "height": 1000
        },
        "id": "XR-g7kCtiZev",
        "outputId": "b737c820-eda1-4b80-a713-f230f611df6b"
      },
      "execution_count": null,
      "outputs": [
        {
          "output_type": "display_data",
          "data": {
            "text/plain": [
              "<Figure size 640x480 with 1 Axes>"
            ],
            "image/png": "[encoded data removed]"
          },
          "metadata": {
            "needs_background": "light"
          }
        },
        {
          "output_type": "stream",
          "name": "stdout",
          "text": [
            "\n"
          ]
        },
        {
          "output_type": "display_data",
          "data": {
            "text/plain": [
              "<Figure size 640x480 with 1 Axes>"
            ],
            "image/png": "[encoded data removed]"
          },
          "metadata": {
            "needs_background": "light"
          }
        },
        {
          "output_type": "stream",
          "name": "stdout",
          "text": [
            "\n"
          ]
        },
        {
          "output_type": "display_data",
          "data": {
            "text/plain": [
              "<Figure size 640x480 with 1 Axes>"
            ],
            "image/png": "[encoded data removed]"
          },
          "metadata": {
            "needs_background": "light"
          }
        },
        {
          "output_type": "stream",
          "name": "stdout",
          "text": [
            "\n"
          ]
        },
        {
          "output_type": "display_data",
          "data": {
            "text/plain": [
              "<Figure size 640x480 with 1 Axes>"
            ],
            "image/png": "[encoded data removed]"
          },
          "metadata": {
            "needs_background": "light"
          }
        },
        {
          "output_type": "stream",
          "name": "stdout",
          "text": [
            "\n"
          ]
        },
        {
          "output_type": "display_data",
          "data": {
            "text/plain": [
              "<Figure size 640x480 with 1 Axes>"
            ],
            "image/png": "[encoded data removed]"
          },
          "metadata": {
            "needs_background": "light"
          }
        },
        {
          "output_type": "stream",
          "name": "stdout",
          "text": [
            "\n"
          ]
        }
      ]
    },
    {
      "cell_type": "markdown",
      "source": [
        "Z wykresu przedstawiającego rozkład klastrów ze względu na grupę, widoczna mocna przewaga klastra 1 - klaster 1 charakteryzuje więc wysoka cena samochodów.\n",
        "Klastry 0 i 2 kształtują się w podobnym przedziale cenowym.\n",
        "\n",
        "W przypadku analizy wpływu przebiegu na podział na klastry, można zauważyć, że\n",
        "klaster 0 charakteryzuje wysoki przebieg, w porównaniu z resztą klastrów które są na podobnym poziomie.\n",
        "\n",
        "Jeśli chodzi o kolejny czynnik to największa pojemność charakteryzuje klaster 1,\n",
        "a najmniejsza pojemność - klaster 2. Tak samo dla analizy koni mechanicznych.\n",
        "\n",
        "W przypadku czynnika diesle, najmniejsza wartość charakteryzuje klaster 2.\n",
        "\n",
        "Klaster 0:\n",
        "- cena niska (ok.20 000)\n",
        "- przebieg wysoki (ok. 150 000 - 180 000)\n",
        "- pojemność średnia (ok. 2 000)\n",
        "- km średni (ok. 120)\n",
        "- diesle wysoki (ok. 60-80)\n",
        "\n",
        "\n",
        "Klaster 1:\n",
        "- cena wysoka (ok.150 000)\n",
        "- przebieg niski (ok. 80 000 - 115 000)\n",
        "- pojemność wysoka (ok.3 000- 3 500)\n",
        "- km wysoki (ok. 250)\n",
        "- diesle wysoki (ok. 75-80)\n",
        "\n",
        "\n",
        "Klaster 2:\n",
        "- cena niska (ok.15 000)\n",
        "- przebieg średni (ok. 100 000 - 150 000)\n",
        "- pojemność niska (ok. 1 500)\n",
        "- km niski (ok. 90)\n",
        "- diesle niski (ok. 35-60)"
      ],
      "metadata": {
        "id": "oYag2C9loZnR"
      }
    },
    {
      "cell_type": "markdown",
      "source": [
        "## Grupowanie za pomocą GMM"
      ],
      "metadata": {
        "id": "FNYzdM6Ass6s"
      }
    },
    {
      "cell_type": "code",
      "source": [
        "gm = GaussianMixture(n_components = 2).fit(auta)\n",
        "\n",
        "auta['klastry_GMM'] = gm.predict(auta)\n",
        "\n",
        "(ggplot(auta, aes(x = 'klastry_GMM', fill = 'factor(klastry_GMM)')) +\n",
        " geom_bar() + \n",
        " theme_minimal() +\n",
        " labs(x = 'Klastry', y='Liczebność')\n",
        ")"
      ],
      "metadata": {
        "colab": {
          "base_uri": "https://localhost:8080/",
          "height": 477
        },
        "id": "JoF5vAcLiZgP",
        "outputId": "bd372500-cd5e-4745-c3eb-eaf562439d2c"
      },
      "execution_count": null,
      "outputs": [
        {
          "output_type": "display_data",
          "data": {
            "text/plain": [
              "<Figure size 640x480 with 1 Axes>"
            ],
            "image/png": "[encoded data removed]"
          },
          "metadata": {
            "needs_background": "light"
          }
        },
        {
          "output_type": "execute_result",
          "data": {
            "text/plain": [
              "<ggplot: (8773077771105)>"
            ]
          },
          "metadata": {},
          "execution_count": 24
        }
      ]
    },
    {
      "cell_type": "markdown",
      "source": [
        "W przypadku grupowania GMM znów mamy dysproporcję dla 2 klastrów. "
      ],
      "metadata": {
        "id": "Tqkyb_uvtUJ3"
      }
    },
    {
      "cell_type": "code",
      "source": [
        "gm = GaussianMixture(n_components = 3).fit(auta)\n",
        "\n",
        "df['klastry_GMM'] = gm.predict(auta)\n",
        "\n",
        "(ggplot(df, aes(x = 'klastry_GMM', fill = 'factor(klastry_GMM)')) +\n",
        " geom_bar() + \n",
        " theme_minimal() +\n",
        " labs(x = 'Klastry', y='Liczebność')\n",
        ")"
      ],
      "metadata": {
        "colab": {
          "base_uri": "https://localhost:8080/",
          "height": 477
        },
        "id": "cVT-uxg8iZlK",
        "outputId": "935c6b26-e5b4-4d84-c391-7e82dcdfc3e6"
      },
      "execution_count": null,
      "outputs": [
        {
          "output_type": "display_data",
          "data": {
            "text/plain": [
              "<Figure size 640x480 with 1 Axes>"
            ],
            "image/png": "[encoded data removed]"
          },
          "metadata": {
            "needs_background": "light"
          }
        },
        {
          "output_type": "execute_result",
          "data": {
            "text/plain": [
              "<ggplot: (8773077731693)>"
            ]
          },
          "metadata": {},
          "execution_count": 25
        }
      ]
    },
    {
      "cell_type": "code",
      "source": [
        "for zm in df.columns[:-2]:\n",
        "  print((ggplot(df, aes(x='factor(klastry_GMM)', y= zm, fill = 'factor(klastry_GMM)')) +\n",
        "    geom_boxplot(show_legend = False) +\n",
        "    theme_minimal() +\n",
        "    labs(x = 'Klastry', title = zm)\n",
        "    ))"
      ],
      "metadata": {
        "colab": {
          "base_uri": "https://localhost:8080/",
          "height": 1000
        },
        "id": "EnUWdAlJiZmn",
        "outputId": "c9c04a73-7db3-4a31-db0e-5fa2f0d04a87"
      },
      "execution_count": null,
      "outputs": [
        {
          "output_type": "display_data",
          "data": {
            "text/plain": [
              "<Figure size 640x480 with 1 Axes>"
            ],
            "image/png": "[encoded data removed]"
          },
          "metadata": {
            "needs_background": "light"
          }
        },
        {
          "output_type": "stream",
          "name": "stdout",
          "text": [
            "\n"
          ]
        },
        {
          "output_type": "display_data",
          "data": {
            "text/plain": [
              "<Figure size 640x480 with 1 Axes>"
            ],
            "image/png": "[encoded data removed]"
          },
          "metadata": {
            "needs_background": "light"
          }
        },
        {
          "output_type": "stream",
          "name": "stdout",
          "text": [
            "\n"
          ]
        },
        {
          "output_type": "display_data",
          "data": {
            "text/plain": [
              "<Figure size 640x480 with 1 Axes>"
            ],
            "image/png": "[encoded data removed]"
          },
          "metadata": {
            "needs_background": "light"
          }
        },
        {
          "output_type": "stream",
          "name": "stdout",
          "text": [
            "\n"
          ]
        },
        {
          "output_type": "display_data",
          "data": {
            "text/plain": [
              "<Figure size 640x480 with 1 Axes>"
            ],
            "image/png": "[encoded data removed]"
          },
          "metadata": {
            "needs_background": "light"
          }
        },
        {
          "output_type": "stream",
          "name": "stdout",
          "text": [
            "\n"
          ]
        },
        {
          "output_type": "display_data",
          "data": {
            "text/plain": [
              "<Figure size 640x480 with 1 Axes>"
            ],
            "image/png": "[encoded data removed]"
          },
          "metadata": {
            "needs_background": "light"
          }
        },
        {
          "output_type": "stream",
          "name": "stdout",
          "text": [
            "\n"
          ]
        }
      ]
    },
    {
      "cell_type": "markdown",
      "source": [
        "Klaster 0:\n",
        "- cena niska (ok.15 000)\n",
        "- przebieg średni (ok. 100 000 - 150 000)\n",
        "- pojemność niska (ok. 1 500)\n",
        "- km niski (ok. 90)\n",
        "- diesle niski (ok. 35-60)\n",
        "\n",
        "Klaster 1:\n",
        "- cena niska (ok.20 000)\n",
        "- przebieg wysoki (ok. 150 000 - 180 000)\n",
        "- pojemność średnia (ok. 2 000)\n",
        "- km średni (ok. 120)\n",
        "- diesle wysoki (ok. 60-80)\n",
        "\n",
        "Klaster 2:\n",
        "- cena wysoka (ok.150 000)\n",
        "- przebieg niski (ok. 80 000 - 115 000)\n",
        "- pojemność wysoka (ok.3 000- 3 500)\n",
        "- km wysoki (ok. 250)\n",
        "- diesle wysoki (ok. 75-80)\n",
        "\n",
        "Analiza jest identyczna jak dla metody KMeans. Jedynie numeracja klastrów została zmieniona, ale grupa cech jest taka sama dla każdego z klastrów.\n"
      ],
      "metadata": {
        "id": "wIfv377QvVsp"
      }
    },
    {
      "cell_type": "markdown",
      "source": [
        "##Grupowanie za pomocą DBSCAN"
      ],
      "metadata": {
        "id": "vuTG1QJvv0oo"
      }
    },
    {
      "cell_type": "code",
      "source": [
        "db = DBSCAN(eps = 0.9, min_samples = 5 ).fit(auta)\n",
        "auta['klastry_db'] = db.labels_\n",
        "df['klastry_db']=db.labels_\n",
        "\n",
        "(ggplot(auta, aes(x = 'klastry_db', fill = 'factor(klastry_db)')) +\n",
        " geom_bar() + \n",
        " theme_minimal() +\n",
        " labs(x = 'Klastry', y='Liczebność')\n",
        ")\n"
      ],
      "metadata": {
        "colab": {
          "base_uri": "https://localhost:8080/",
          "height": 477
        },
        "id": "XuYapnmyiZsK",
        "outputId": "ed44dcd4-4331-4b09-b3e2-156f37058453"
      },
      "execution_count": null,
      "outputs": [
        {
          "output_type": "display_data",
          "data": {
            "text/plain": [
              "<Figure size 640x480 with 1 Axes>"
            ],
            "image/png": "[encoded data removed]"
          },
          "metadata": {
            "needs_background": "light"
          }
        },
        {
          "output_type": "execute_result",
          "data": {
            "text/plain": [
              "<ggplot: (8773077700641)>"
            ]
          },
          "metadata": {},
          "execution_count": 44
        }
      ]
    },
    {
      "cell_type": "code",
      "source": [
        "for zm in df.columns[:-3]:\n",
        "  print((ggplot(df, aes(x='factor(klastry_db)', y= zm, fill = 'factor(klastry_db)')) +\n",
        "    geom_boxplot(show_legend = False) +\n",
        "    theme_minimal() +\n",
        "    labs(x = 'Klastry', title = zm)\n",
        "    ))"
      ],
      "metadata": {
        "colab": {
          "base_uri": "https://localhost:8080/",
          "height": 1000
        },
        "id": "_Pke1WCfiZtx",
        "outputId": "d6e477c0-110d-49a4-d7ce-fb550e302275"
      },
      "execution_count": null,
      "outputs": [
        {
          "output_type": "display_data",
          "data": {
            "text/plain": [
              "<Figure size 640x480 with 1 Axes>"
            ],
            "image/png": "[encoded data removed]"
          },
          "metadata": {
            "needs_background": "light"
          }
        },
        {
          "output_type": "stream",
          "name": "stdout",
          "text": [
            "\n"
          ]
        },
        {
          "output_type": "display_data",
          "data": {
            "text/plain": [
              "<Figure size 640x480 with 1 Axes>"
            ],
            "image/png": "[encoded data removed]"
          },
          "metadata": {
            "needs_background": "light"
          }
        },
        {
          "output_type": "stream",
          "name": "stdout",
          "text": [
            "\n"
          ]
        },
        {
          "output_type": "display_data",
          "data": {
            "text/plain": [
              "<Figure size 640x480 with 1 Axes>"
            ],
            "image/png": "[encoded data removed]"
          },
          "metadata": {
            "needs_background": "light"
          }
        },
        {
          "output_type": "stream",
          "name": "stdout",
          "text": [
            "\n"
          ]
        },
        {
          "output_type": "display_data",
          "data": {
            "text/plain": [
              "<Figure size 640x480 with 1 Axes>"
            ],
            "image/png": "[encoded data removed]"
          },
          "metadata": {
            "needs_background": "light"
          }
        },
        {
          "output_type": "stream",
          "name": "stdout",
          "text": [
            "\n"
          ]
        },
        {
          "output_type": "display_data",
          "data": {
            "text/plain": [
              "<Figure size 640x480 with 1 Axes>"
            ],
            "image/png": "[encoded data removed]"
          },
          "metadata": {
            "needs_background": "light"
          }
        },
        {
          "output_type": "stream",
          "name": "stdout",
          "text": [
            "\n"
          ]
        }
      ]
    },
    {
      "cell_type": "markdown",
      "source": [
        "\n",
        "Klaster -1 (szum):\n",
        "- cena średnia (ok.30 000)\n",
        "- przebieg średni (ok. 110 000 - 170 000)\n",
        "- pojemność wysoka (ok. 1 500 - 2 500)\n",
        "- km wysoka (ok. 100 - 150)\n",
        "- diesle wysoki (ok. 50-80)\n",
        "\n",
        "Klaster 0:\n",
        "- cena niska (ok.20 000)\n",
        "- przebieg wysoki (ok. 150 000 - 180 000)\n",
        "- pojemność średnia (ok. 2 000)\n",
        "- km średni (ok. 120 - 140)\n",
        "- diesle wysoki (ok. 65-80)\n",
        "\n",
        "Klaster 1:\n",
        "- cena niska (ok.10 000)\n",
        "- przebieg niski (ok. 110 000 - 130 000)\n",
        "- pojemność niska (ok.1 500)\n",
        "- km niski (ok. 75)\n",
        "- diesle niski (ok. 35-50)\n"
      ],
      "metadata": {
        "id": "7CQahp5fyRgP"
      }
    },
    {
      "cell_type": "markdown",
      "source": [
        "W tym przypadku DBSCAN cechy w klastrach nieznacznie różnią się od wcześniejszych analiz grupowań. Z ramki poniżej, można zobaczyć że pierwsze dwie analizy dają identyczny wynik (tylko z innymi numeracjami klastrów).\n"
      ],
      "metadata": {
        "id": "Y6B-FzzD0WZQ"
      }
    },
    {
      "cell_type": "code",
      "source": [
        "df"
      ],
      "metadata": {
        "colab": {
          "base_uri": "https://localhost:8080/",
          "height": 1000
        },
        "id": "WGl9VMqK0yqZ",
        "outputId": "a7bd9bfc-239b-4b03-b866-2f8926bbb850"
      },
      "execution_count": null,
      "outputs": [
        {
          "output_type": "execute_result",
          "data": {
            "text/plain": [
              "                               Cena  Przebieg  Pojemnosc   KM  diesle  \\\n",
              "Audi A3                  20900.0000  164450.0     1896.0  110    66.9   \n",
              "Audi A4                  25311.4000  182000.0     1900.0  130    75.7   \n",
              "Audi A6                  31500.0000  185000.0     2496.0  170    82.5   \n",
              "Audi A8                 109000.0000  129380.0     4134.0  300    68.1   \n",
              "Audi Q7                 179000.0000   72000.0     3000.0  240    89.1   \n",
              "BMW 316                   6150.0000  186000.0     1600.0  105     1.7   \n",
              "BMW 318                  14500.0000  173980.0     1895.0  118    32.8   \n",
              "BMW 320                  21699.0000  178000.0     2000.0  150    81.4   \n",
              "BMW 520                  55900.0000  149350.0     1998.0  163    65.7   \n",
              "BMW 525                  17110.0000  207000.0     2499.0  163    87.7   \n",
              "BMW 530                  46669.6000  182000.0     3000.0  218    92.2   \n",
              "BMW X5                  139949.5000  107000.0     2993.0  235    84.1   \n",
              "Citroen Berlingo         16800.0000  143000.0     1600.0   90    80.8   \n",
              "Citroen C3               17200.0000   86000.0     1398.0   68    54.7   \n",
              "Citroen C4               23943.4450   98000.0     1560.0  109    67.8   \n",
              "Citroen C4 Picasso       36900.0000  115000.0     1600.0  110    88.2   \n",
              "Citroen C5               20999.5000  145000.0     1997.0  136    79.2   \n",
              "Citroen Xsara             8400.0000  152000.0     1761.0   90    42.5   \n",
              "Citroen Xsara Picasso    13800.0000  150000.0     1800.0   95    63.1   \n",
              "Mazda 3                  30500.0000   98700.0     1598.0  109    41.1   \n",
              "Mazda 323F                8999.0000  170000.0     1600.0   90    37.4   \n",
              "Mazda 6                  26400.0000  147000.0     1998.0  136    74.2   \n",
              "Opel Astra               14900.0000  146000.0     1686.0  100    56.3   \n",
              "Opel Corsa               11900.0000  120000.0     1229.0   75    33.4   \n",
              "Opel Meriva              19900.0000  119000.0     1686.0  100    66.7   \n",
              "Opel Omega                6400.0000  205000.0     2200.0  136    40.9   \n",
              "Opel Vectra              15900.0000  166000.0     1910.0  120    61.6   \n",
              "Opel Zafira              18900.0000  158000.0     1910.0  110    80.6   \n",
              "Peugeot 206              10900.0000  127000.0     1398.0   75    46.6   \n",
              "Peugeot 207              25493.7289   52147.0     1400.0   88    60.1   \n",
              "Peugeot 307              17500.0000  145250.0     1600.0  109    80.7   \n",
              "Peugeot 308              37900.0000   47000.0     1598.0  109    78.3   \n",
              "Peugeot 406               8750.0000  183000.0     1997.0  110    51.6   \n",
              "Peugeot 407              27695.0000  139000.0     1997.0  136    86.8   \n",
              "Peugeot Partner          16000.0000  135000.0     1600.0   90    84.5   \n",
              "Renault Clio             12500.0000  107354.5     1400.0   75    44.9   \n",
              "Renault Espace           18300.0000  167000.0     2000.0  140    76.0   \n",
              "Renault Grand Scenic     23900.0000  139802.5     1900.0  120    90.2   \n",
              "Renault Kangoo           12300.0000  146000.0     1500.0   75    71.5   \n",
              "Renault Laguna           12999.0000  160000.0     1895.5  120    65.3   \n",
              "Renault Megane           14700.0000  136000.0     1598.0  105    51.2   \n",
              "Renault Scenic           13800.0000  155500.0     1870.0  107    64.4   \n",
              "Renault Twingo            8700.0000   63277.0     1200.0   60    10.9   \n",
              "Volkswagen Bora          15390.4450  180000.0     1896.0  110    67.9   \n",
              "Volkswagen Golf          13900.0000  167000.0     1896.0  101    53.9   \n",
              "Volkswagen Passat        21400.0000  181000.0     1900.0  130    81.6   \n",
              "Volkswagen Polo          13800.0000  129000.0     1400.0   70    35.5   \n",
              "Volkswagen Sharan        20500.0000  193000.0     1897.0  115    83.5   \n",
              "Volkswagen Touran        33000.0000  160000.0     1900.0  105    95.3   \n",
              "Volkswagen Transporter   17650.0000  223000.0     2400.0  102    96.2   \n",
              "Volvo S40                29900.0000  135000.0     1900.0  136    68.4   \n",
              "Volvo V40                10047.4500  189322.0     1870.0  115    62.9   \n",
              "Volvo V50                34900.0000  140000.0     1998.0  136    96.4   \n",
              "\n",
              "                        klastry_KM  klastry_GMM  klastry_db  \n",
              "Audi A3                          0            1           0  \n",
              "Audi A4                          0            1           0  \n",
              "Audi A6                          0            1          -1  \n",
              "Audi A8                          2            2          -1  \n",
              "Audi Q7                          2            2          -1  \n",
              "BMW 316                          1            0          -1  \n",
              "BMW 318                          1            0          -1  \n",
              "BMW 320                          0            1           0  \n",
              "BMW 520                          0            1          -1  \n",
              "BMW 525                          0            1          -1  \n",
              "BMW 530                          0            1          -1  \n",
              "BMW X5                           2            2          -1  \n",
              "Citroen Berlingo                 0            1          -1  \n",
              "Citroen C3                       1            0           1  \n",
              "Citroen C4                       1            0          -1  \n",
              "Citroen C4 Picasso               0            1          -1  \n",
              "Citroen C5                       0            1           0  \n",
              "Citroen Xsara                    1            0          -1  \n",
              "Citroen Xsara Picasso            0            1           0  \n",
              "Mazda 3                          1            0          -1  \n",
              "Mazda 323F                       1            0          -1  \n",
              "Mazda 6                          0            1           0  \n",
              "Opel Astra                       1            0          -1  \n",
              "Opel Corsa                       1            0           1  \n",
              "Opel Meriva                      1            0          -1  \n",
              "Opel Omega                       0            1          -1  \n",
              "Opel Vectra                      0            1           0  \n",
              "Opel Zafira                      0            1           0  \n",
              "Peugeot 206                      1            0           1  \n",
              "Peugeot 207                      1            0          -1  \n",
              "Peugeot 307                      0            1          -1  \n",
              "Peugeot 308                      1            0          -1  \n",
              "Peugeot 406                      0            1           0  \n",
              "Peugeot 407                      0            1           0  \n",
              "Peugeot Partner                  0            1          -1  \n",
              "Renault Clio                     1            0           1  \n",
              "Renault Espace                   0            1           0  \n",
              "Renault Grand Scenic             0            1           0  \n",
              "Renault Kangoo                   1            0          -1  \n",
              "Renault Laguna                   0            1           0  \n",
              "Renault Megane                   1            0           1  \n",
              "Renault Scenic                   0            1           0  \n",
              "Renault Twingo                   1            0          -1  \n",
              "Volkswagen Bora                  0            1           0  \n",
              "Volkswagen Golf                  0            1           0  \n",
              "Volkswagen Passat                0            1           0  \n",
              "Volkswagen Polo                  1            0           1  \n",
              "Volkswagen Sharan                0            1           0  \n",
              "Volkswagen Touran                0            1          -1  \n",
              "Volkswagen Transporter           0            1          -1  \n",
              "Volvo S40                        0            1           0  \n",
              "Volvo V40                        0            1           0  \n",
              "Volvo V50                        0            1           0  "
            ],
            "text/html": [
              "\n",
              "  <div id=\"df-a57dd2a1-060e-4178-854b-0accb941123f\">\n",
              "    <div class=\"colab-df-container\">\n",
              "      <div>\n",
              "<style scoped>\n",
              "    .dataframe tbody tr th:only-of-type {\n",
              "        vertical-align: middle;\n",
              "    }\n",
              "\n",
              "    .dataframe tbody tr th {\n",
              "        vertical-align: top;\n",
              "    }\n",
              "\n",
              "    .dataframe thead th {\n",
              "        text-align: right;\n",
              "    }\n",
              "</style>\n",
              "<table border=\"1\" class=\"dataframe\">\n",
              "  <thead>\n",
              "    <tr style=\"text-align: right;\">\n",
              "      <th></th>\n",
              "      <th>Cena</th>\n",
              "      <th>Przebieg</th>\n",
              "      <th>Pojemnosc</th>\n",
              "      <th>KM</th>\n",
              "      <th>diesle</th>\n",
              "      <th>klastry_KM</th>\n",
              "      <th>klastry_GMM</th>\n",
              "      <th>klastry_db</th>\n",
              "    </tr>\n",
              "  </thead>\n",
              "  <tbody>\n",
              "    <tr>\n",
              "      <th>Audi A3</th>\n",
              "      <td>20900.0000</td>\n",
              "      <td>164450.0</td>\n",
              "      <td>1896.0</td>\n",
              "      <td>110</td>\n",
              "      <td>66.9</td>\n",
              "      <td>0</td>\n",
              "      <td>1</td>\n",
              "      <td>0</td>\n",
              "    </tr>\n",
              "    <tr>\n",
              "      <th>Audi A4</th>\n",
              "      <td>25311.4000</td>\n",
              "      <td>182000.0</td>\n",
              "      <td>1900.0</td>\n",
              "      <td>130</td>\n",
              "      <td>75.7</td>\n",
              "      <td>0</td>\n",
              "      <td>1</td>\n",
              "      <td>0</td>\n",
              "    </tr>\n",
              "    <tr>\n",
              "      <th>Audi A6</th>\n",
              "      <td>31500.0000</td>\n",
              "      <td>185000.0</td>\n",
              "      <td>2496.0</td>\n",
              "      <td>170</td>\n",
              "      <td>82.5</td>\n",
              "      <td>0</td>\n",
              "      <td>1</td>\n",
              "      <td>-1</td>\n",
              "    </tr>\n",
              "    <tr>\n",
              "      <th>Audi A8</th>\n",
              "      <td>109000.0000</td>\n",
              "      <td>129380.0</td>\n",
              "      <td>4134.0</td>\n",
              "      <td>300</td>\n",
              "      <td>68.1</td>\n",
              "      <td>2</td>\n",
              "      <td>2</td>\n",
              "      <td>-1</td>\n",
              "    </tr>\n",
              "    <tr>\n",
              "      <th>Audi Q7</th>\n",
              "      <td>179000.0000</td>\n",
              "      <td>72000.0</td>\n",
              "      <td>3000.0</td>\n",
              "      <td>240</td>\n",
              "      <td>89.1</td>\n",
              "      <td>2</td>\n",
              "      <td>2</td>\n",
              "      <td>-1</td>\n",
              "    </tr>\n",
              "    <tr>\n",
              "      <th>BMW 316</th>\n",
              "      <td>6150.0000</td>\n",
              "      <td>186000.0</td>\n",
              "      <td>1600.0</td>\n",
              "      <td>105</td>\n",
              "      <td>1.7</td>\n",
              "      <td>1</td>\n",
              "      <td>0</td>\n",
              "      <td>-1</td>\n",
              "    </tr>\n",
              "    <tr>\n",
              "      <th>BMW 318</th>\n",
              "      <td>14500.0000</td>\n",
              "      <td>173980.0</td>\n",
              "      <td>1895.0</td>\n",
              "      <td>118</td>\n",
              "      <td>32.8</td>\n",
              "      <td>1</td>\n",
              "      <td>0</td>\n",
              "      <td>-1</td>\n",
              "    </tr>\n",
              "    <tr>\n",
              "      <th>BMW 320</th>\n",
              "      <td>21699.0000</td>\n",
              "      <td>178000.0</td>\n",
              "      <td>2000.0</td>\n",
              "      <td>150</td>\n",
              "      <td>81.4</td>\n",
              "      <td>0</td>\n",
              "      <td>1</td>\n",
              "      <td>0</td>\n",
              "    </tr>\n",
              "    <tr>\n",
              "      <th>BMW 520</th>\n",
              "      <td>55900.0000</td>\n",
              "      <td>149350.0</td>\n",
              "      <td>1998.0</td>\n",
              "      <td>163</td>\n",
              "      <td>65.7</td>\n",
              "      <td>0</td>\n",
              "      <td>1</td>\n",
              "      <td>-1</td>\n",
              "    </tr>\n",
              "    <tr>\n",
              "      <th>BMW 525</th>\n",
              "      <td>17110.0000</td>\n",
              "      <td>207000.0</td>\n",
              "      <td>2499.0</td>\n",
              "      <td>163</td>\n",
              "      <td>87.7</td>\n",
              "      <td>0</td>\n",
              "      <td>1</td>\n",
              "      <td>-1</td>\n",
              "    </tr>\n",
              "    <tr>\n",
              "      <th>BMW 530</th>\n",
              "      <td>46669.6000</td>\n",
              "      <td>182000.0</td>\n",
              "      <td>3000.0</td>\n",
              "      <td>218</td>\n",
              "      <td>92.2</td>\n",
              "      <td>0</td>\n",
              "      <td>1</td>\n",
              "      <td>-1</td>\n",
              "    </tr>\n",
              "    <tr>\n",
              "      <th>BMW X5</th>\n",
              "      <td>139949.5000</td>\n",
              "      <td>107000.0</td>\n",
              "      <td>2993.0</td>\n",
              "      <td>235</td>\n",
              "      <td>84.1</td>\n",
              "      <td>2</td>\n",
              "      <td>2</td>\n",
              "      <td>-1</td>\n",
              "    </tr>\n",
              "    <tr>\n",
              "      <th>Citroen Berlingo</th>\n",
              "      <td>16800.0000</td>\n",
              "      <td>143000.0</td>\n",
              "      <td>1600.0</td>\n",
              "      <td>90</td>\n",
              "      <td>80.8</td>\n",
              "      <td>0</td>\n",
              "      <td>1</td>\n",
              "      <td>-1</td>\n",
              "    </tr>\n",
              "    <tr>\n",
              "      <th>Citroen C3</th>\n",
              "      <td>17200.0000</td>\n",
              "      <td>86000.0</td>\n",
              "      <td>1398.0</td>\n",
              "      <td>68</td>\n",
              "      <td>54.7</td>\n",
              "      <td>1</td>\n",
              "      <td>0</td>\n",
              "      <td>1</td>\n",
              "    </tr>\n",
              "    <tr>\n",
              "      <th>Citroen C4</th>\n",
              "      <td>23943.4450</td>\n",
              "      <td>98000.0</td>\n",
              "      <td>1560.0</td>\n",
              "      <td>109</td>\n",
              "      <td>67.8</td>\n",
              "      <td>1</td>\n",
              "      <td>0</td>\n",
              "      <td>-1</td>\n",
              "    </tr>\n",
              "    <tr>\n",
              "      <th>Citroen C4 Picasso</th>\n",
              "      <td>36900.0000</td>\n",
              "      <td>115000.0</td>\n",
              "      <td>1600.0</td>\n",
              "      <td>110</td>\n",
              "      <td>88.2</td>\n",
              "      <td>0</td>\n",
              "      <td>1</td>\n",
              "      <td>-1</td>\n",
              "    </tr>\n",
              "    <tr>\n",
              "      <th>Citroen C5</th>\n",
              "      <td>20999.5000</td>\n",
              "      <td>145000.0</td>\n",
              "      <td>1997.0</td>\n",
              "      <td>136</td>\n",
              "      <td>79.2</td>\n",
              "      <td>0</td>\n",
              "      <td>1</td>\n",
              "      <td>0</td>\n",
              "    </tr>\n",
              "    <tr>\n",
              "      <th>Citroen Xsara</th>\n",
              "      <td>8400.0000</td>\n",
              "      <td>152000.0</td>\n",
              "      <td>1761.0</td>\n",
              "      <td>90</td>\n",
              "      <td>42.5</td>\n",
              "      <td>1</td>\n",
              "      <td>0</td>\n",
              "      <td>-1</td>\n",
              "    </tr>\n",
              "    <tr>\n",
              "      <th>Citroen Xsara Picasso</th>\n",
              "      <td>13800.0000</td>\n",
              "      <td>150000.0</td>\n",
              "      <td>1800.0</td>\n",
              "      <td>95</td>\n",
              "      <td>63.1</td>\n",
              "      <td>0</td>\n",
              "      <td>1</td>\n",
              "      <td>0</td>\n",
              "    </tr>\n",
              "    <tr>\n",
              "      <th>Mazda 3</th>\n",
              "      <td>30500.0000</td>\n",
              "      <td>98700.0</td>\n",
              "      <td>1598.0</td>\n",
              "      <td>109</td>\n",
              "      <td>41.1</td>\n",
              "      <td>1</td>\n",
              "      <td>0</td>\n",
              "      <td>-1</td>\n",
              "    </tr>\n",
              "    <tr>\n",
              "      <th>Mazda 323F</th>\n",
              "      <td>8999.0000</td>\n",
              "      <td>170000.0</td>\n",
              "      <td>1600.0</td>\n",
              "      <td>90</td>\n",
              "      <td>37.4</td>\n",
              "      <td>1</td>\n",
              "      <td>0</td>\n",
              "      <td>-1</td>\n",
              "    </tr>\n",
              "    <tr>\n",
              "      <th>Mazda 6</th>\n",
              "      <td>26400.0000</td>\n",
              "      <td>147000.0</td>\n",
              "      <td>1998.0</td>\n",
              "      <td>136</td>\n",
              "      <td>74.2</td>\n",
              "      <td>0</td>\n",
              "      <td>1</td>\n",
              "      <td>0</td>\n",
              "    </tr>\n",
              "    <tr>\n",
              "      <th>Opel Astra</th>\n",
              "      <td>14900.0000</td>\n",
              "      <td>146000.0</td>\n",
              "      <td>1686.0</td>\n",
              "      <td>100</td>\n",
              "      <td>56.3</td>\n",
              "      <td>1</td>\n",
              "      <td>0</td>\n",
              "      <td>-1</td>\n",
              "    </tr>\n",
              "    <tr>\n",
              "      <th>Opel Corsa</th>\n",
              "      <td>11900.0000</td>\n",
              "      <td>120000.0</td>\n",
              "      <td>1229.0</td>\n",
              "      <td>75</td>\n",
              "      <td>33.4</td>\n",
              "      <td>1</td>\n",
              "      <td>0</td>\n",
              "      <td>1</td>\n",
              "    </tr>\n",
              "    <tr>\n",
              "      <th>Opel Meriva</th>\n",
              "      <td>19900.0000</td>\n",
              "      <td>119000.0</td>\n",
              "      <td>1686.0</td>\n",
              "      <td>100</td>\n",
              "      <td>66.7</td>\n",
              "      <td>1</td>\n",
              "      <td>0</td>\n",
              "      <td>-1</td>\n",
              "    </tr>\n",
              "    <tr>\n",
              "      <th>Opel Omega</th>\n",
              "      <td>6400.0000</td>\n",
              "      <td>205000.0</td>\n",
              "      <td>2200.0</td>\n",
              "      <td>136</td>\n",
              "      <td>40.9</td>\n",
              "      <td>0</td>\n",
              "      <td>1</td>\n",
              "      <td>-1</td>\n",
              "    </tr>\n",
              "    <tr>\n",
              "      <th>Opel Vectra</th>\n",
              "      <td>15900.0000</td>\n",
              "      <td>166000.0</td>\n",
              "      <td>1910.0</td>\n",
              "      <td>120</td>\n",
              "      <td>61.6</td>\n",
              "      <td>0</td>\n",
              "      <td>1</td>\n",
              "      <td>0</td>\n",
              "    </tr>\n",
              "    <tr>\n",
              "      <th>Opel Zafira</th>\n",
              "      <td>18900.0000</td>\n",
              "      <td>158000.0</td>\n",
              "      <td>1910.0</td>\n",
              "      <td>110</td>\n",
              "      <td>80.6</td>\n",
              "      <td>0</td>\n",
              "      <td>1</td>\n",
              "      <td>0</td>\n",
              "    </tr>\n",
              "    <tr>\n",
              "      <th>Peugeot 206</th>\n",
              "      <td>10900.0000</td>\n",
              "      <td>127000.0</td>\n",
              "      <td>1398.0</td>\n",
              "      <td>75</td>\n",
              "      <td>46.6</td>\n",
              "      <td>1</td>\n",
              "      <td>0</td>\n",
              "      <td>1</td>\n",
              "    </tr>\n",
              "    <tr>\n",
              "      <th>Peugeot 207</th>\n",
              "      <td>25493.7289</td>\n",
              "      <td>52147.0</td>\n",
              "      <td>1400.0</td>\n",
              "      <td>88</td>\n",
              "      <td>60.1</td>\n",
              "      <td>1</td>\n",
              "      <td>0</td>\n",
              "      <td>-1</td>\n",
              "    </tr>\n",
              "    <tr>\n",
              "      <th>Peugeot 307</th>\n",
              "      <td>17500.0000</td>\n",
              "      <td>145250.0</td>\n",
              "      <td>1600.0</td>\n",
              "      <td>109</td>\n",
              "      <td>80.7</td>\n",
              "      <td>0</td>\n",
              "      <td>1</td>\n",
              "      <td>-1</td>\n",
              "    </tr>\n",
              "    <tr>\n",
              "      <th>Peugeot 308</th>\n",
              "      <td>37900.0000</td>\n",
              "      <td>47000.0</td>\n",
              "      <td>1598.0</td>\n",
              "      <td>109</td>\n",
              "      <td>78.3</td>\n",
              "      <td>1</td>\n",
              "      <td>0</td>\n",
              "      <td>-1</td>\n",
              "    </tr>\n",
              "    <tr>\n",
              "      <th>Peugeot 406</th>\n",
              "      <td>8750.0000</td>\n",
              "      <td>183000.0</td>\n",
              "      <td>1997.0</td>\n",
              "      <td>110</td>\n",
              "      <td>51.6</td>\n",
              "      <td>0</td>\n",
              "      <td>1</td>\n",
              "      <td>0</td>\n",
              "    </tr>\n",
              "    <tr>\n",
              "      <th>Peugeot 407</th>\n",
              "      <td>27695.0000</td>\n",
              "      <td>139000.0</td>\n",
              "      <td>1997.0</td>\n",
              "      <td>136</td>\n",
              "      <td>86.8</td>\n",
              "      <td>0</td>\n",
              "      <td>1</td>\n",
              "      <td>0</td>\n",
              "    </tr>\n",
              "    <tr>\n",
              "      <th>Peugeot Partner</th>\n",
              "      <td>16000.0000</td>\n",
              "      <td>135000.0</td>\n",
              "      <td>1600.0</td>\n",
              "      <td>90</td>\n",
              "      <td>84.5</td>\n",
              "      <td>0</td>\n",
              "      <td>1</td>\n",
              "      <td>-1</td>\n",
              "    </tr>\n",
              "    <tr>\n",
              "      <th>Renault Clio</th>\n",
              "      <td>12500.0000</td>\n",
              "      <td>107354.5</td>\n",
              "      <td>1400.0</td>\n",
              "      <td>75</td>\n",
              "      <td>44.9</td>\n",
              "      <td>1</td>\n",
              "      <td>0</td>\n",
              "      <td>1</td>\n",
              "    </tr>\n",
              "    <tr>\n",
              "      <th>Renault Espace</th>\n",
              "      <td>18300.0000</td>\n",
              "      <td>167000.0</td>\n",
              "      <td>2000.0</td>\n",
              "      <td>140</td>\n",
              "      <td>76.0</td>\n",
              "      <td>0</td>\n",
              "      <td>1</td>\n",
              "      <td>0</td>\n",
              "    </tr>\n",
              "    <tr>\n",
              "      <th>Renault Grand Scenic</th>\n",
              "      <td>23900.0000</td>\n",
              "      <td>139802.5</td>\n",
              "      <td>1900.0</td>\n",
              "      <td>120</td>\n",
              "      <td>90.2</td>\n",
              "      <td>0</td>\n",
              "      <td>1</td>\n",
              "      <td>0</td>\n",
              "    </tr>\n",
              "    <tr>\n",
              "      <th>Renault Kangoo</th>\n",
              "      <td>12300.0000</td>\n",
              "      <td>146000.0</td>\n",
              "      <td>1500.0</td>\n",
              "      <td>75</td>\n",
              "      <td>71.5</td>\n",
              "      <td>1</td>\n",
              "      <td>0</td>\n",
              "      <td>-1</td>\n",
              "    </tr>\n",
              "    <tr>\n",
              "      <th>Renault Laguna</th>\n",
              "      <td>12999.0000</td>\n",
              "      <td>160000.0</td>\n",
              "      <td>1895.5</td>\n",
              "      <td>120</td>\n",
              "      <td>65.3</td>\n",
              "      <td>0</td>\n",
              "      <td>1</td>\n",
              "      <td>0</td>\n",
              "    </tr>\n",
              "    <tr>\n",
              "      <th>Renault Megane</th>\n",
              "      <td>14700.0000</td>\n",
              "      <td>136000.0</td>\n",
              "      <td>1598.0</td>\n",
              "      <td>105</td>\n",
              "      <td>51.2</td>\n",
              "      <td>1</td>\n",
              "      <td>0</td>\n",
              "      <td>1</td>\n",
              "    </tr>\n",
              "    <tr>\n",
              "      <th>Renault Scenic</th>\n",
              "      <td>13800.0000</td>\n",
              "      <td>155500.0</td>\n",
              "      <td>1870.0</td>\n",
              "      <td>107</td>\n",
              "      <td>64.4</td>\n",
              "      <td>0</td>\n",
              "      <td>1</td>\n",
              "      <td>0</td>\n",
              "    </tr>\n",
              "    <tr>\n",
              "      <th>Renault Twingo</th>\n",
              "      <td>8700.0000</td>\n",
              "      <td>63277.0</td>\n",
              "      <td>1200.0</td>\n",
              "      <td>60</td>\n",
              "      <td>10.9</td>\n",
              "      <td>1</td>\n",
              "      <td>0</td>\n",
              "      <td>-1</td>\n",
              "    </tr>\n",
              "    <tr>\n",
              "      <th>Volkswagen Bora</th>\n",
              "      <td>15390.4450</td>\n",
              "      <td>180000.0</td>\n",
              "      <td>1896.0</td>\n",
              "      <td>110</td>\n",
              "      <td>67.9</td>\n",
              "      <td>0</td>\n",
              "      <td>1</td>\n",
              "      <td>0</td>\n",
              "    </tr>\n",
              "    <tr>\n",
              "      <th>Volkswagen Golf</th>\n",
              "      <td>13900.0000</td>\n",
              "      <td>167000.0</td>\n",
              "      <td>1896.0</td>\n",
              "      <td>101</td>\n",
              "      <td>53.9</td>\n",
              "      <td>0</td>\n",
              "      <td>1</td>\n",
              "      <td>0</td>\n",
              "    </tr>\n",
              "    <tr>\n",
              "      <th>Volkswagen Passat</th>\n",
              "      <td>21400.0000</td>\n",
              "      <td>181000.0</td>\n",
              "      <td>1900.0</td>\n",
              "      <td>130</td>\n",
              "      <td>81.6</td>\n",
              "      <td>0</td>\n",
              "      <td>1</td>\n",
              "      <td>0</td>\n",
              "    </tr>\n",
              "    <tr>\n",
              "      <th>Volkswagen Polo</th>\n",
              "      <td>13800.0000</td>\n",
              "      <td>129000.0</td>\n",
              "      <td>1400.0</td>\n",
              "      <td>70</td>\n",
              "      <td>35.5</td>\n",
              "      <td>1</td>\n",
              "      <td>0</td>\n",
              "      <td>1</td>\n",
              "    </tr>\n",
              "    <tr>\n",
              "      <th>Volkswagen Sharan</th>\n",
              "      <td>20500.0000</td>\n",
              "      <td>193000.0</td>\n",
              "      <td>1897.0</td>\n",
              "      <td>115</td>\n",
              "      <td>83.5</td>\n",
              "      <td>0</td>\n",
              "      <td>1</td>\n",
              "      <td>0</td>\n",
              "    </tr>\n",
              "    <tr>\n",
              "      <th>Volkswagen Touran</th>\n",
              "      <td>33000.0000</td>\n",
              "      <td>160000.0</td>\n",
              "      <td>1900.0</td>\n",
              "      <td>105</td>\n",
              "      <td>95.3</td>\n",
              "      <td>0</td>\n",
              "      <td>1</td>\n",
              "      <td>-1</td>\n",
              "    </tr>\n",
              "    <tr>\n",
              "      <th>Volkswagen Transporter</th>\n",
              "      <td>17650.0000</td>\n",
              "      <td>223000.0</td>\n",
              "      <td>2400.0</td>\n",
              "      <td>102</td>\n",
              "      <td>96.2</td>\n",
              "      <td>0</td>\n",
              "      <td>1</td>\n",
              "      <td>-1</td>\n",
              "    </tr>\n",
              "    <tr>\n",
              "      <th>Volvo S40</th>\n",
              "      <td>29900.0000</td>\n",
              "      <td>135000.0</td>\n",
              "      <td>1900.0</td>\n",
              "      <td>136</td>\n",
              "      <td>68.4</td>\n",
              "      <td>0</td>\n",
              "      <td>1</td>\n",
              "      <td>0</td>\n",
              "    </tr>\n",
              "    <tr>\n",
              "      <th>Volvo V40</th>\n",
              "      <td>10047.4500</td>\n",
              "      <td>189322.0</td>\n",
              "      <td>1870.0</td>\n",
              "      <td>115</td>\n",
              "      <td>62.9</td>\n",
              "      <td>0</td>\n",
              "      <td>1</td>\n",
              "      <td>0</td>\n",
              "    </tr>\n",
              "    <tr>\n",
              "      <th>Volvo V50</th>\n",
              "      <td>34900.0000</td>\n",
              "      <td>140000.0</td>\n",
              "      <td>1998.0</td>\n",
              "      <td>136</td>\n",
              "      <td>96.4</td>\n",
              "      <td>0</td>\n",
              "      <td>1</td>\n",
              "      <td>0</td>\n",
              "    </tr>\n",
              "  </tbody>\n",
              "</table>\n",
              "</div>\n",
              "      <button class=\"colab-df-convert\" onclick=\"convertToInteractive('df-a57dd2a1-060e-4178-854b-0accb941123f')\"\n",
              "              title=\"Convert this dataframe to an interactive table.\"\n",
              "              style=\"display:none;\">\n",
              "        \n",
              "  <svg xmlns=\"http://www.w3.org/2000/svg\" height=\"24px\"viewBox=\"0 0 24 24\"\n",
              "       width=\"24px\">\n",
              "    <path d=\"M0 0h24v24H0V0z\" fill=\"none\"/>\n",
              "    <path d=\"M18.56 5.44l.94 2.06.94-2.06 2.06-.94-2.06-.94-.94-2.06-.94 2.06-2.06.94zm-11 1L8.5 8.5l.94-2.06 2.06-.94-2.06-.94L8.5 2.5l-.94 2.06-2.06.94zm10 10l.94 2.06.94-2.06 2.06-.94-2.06-.94-.94-2.06-.94 2.06-2.06.94z\"/><path d=\"M17.41 7.96l-1.37-1.37c-.4-.4-.92-.59-1.43-.59-.52 0-1.04.2-1.43.59L10.3 9.45l-7.72 7.72c-.78.78-.78 2.05 0 2.83L4 21.41c.39.39.9.59 1.41.59.51 0 1.02-.2 1.41-.59l7.78-7.78 2.81-2.81c.8-.78.8-2.07 0-2.86zM5.41 20L4 18.59l7.72-7.72 1.47 1.35L5.41 20z\"/>\n",
              "  </svg>\n",
              "      </button>\n",
              "      \n",
              "  <style>\n",
              "    .colab-df-container {\n",
              "      display:flex;\n",
              "      flex-wrap:wrap;\n",
              "      gap: 12px;\n",
              "    }\n",
              "\n",
              "    .colab-df-convert {\n",
              "      background-color: #E8F0FE;\n",
              "      border: none;\n",
              "      border-radius: 50%;\n",
              "      cursor: pointer;\n",
              "      display: none;\n",
              "      fill: #1967D2;\n",
              "      height: 32px;\n",
              "      padding: 0 0 0 0;\n",
              "      width: 32px;\n",
              "    }\n",
              "\n",
              "    .colab-df-convert:hover {\n",
              "      background-color: #E2EBFA;\n",
              "      box-shadow: 0px 1px 2px rgba(60, 64, 67, 0.3), 0px 1px 3px 1px rgba(60, 64, 67, 0.15);\n",
              "      fill: #174EA6;\n",
              "    }\n",
              "\n",
              "    [theme=dark] .colab-df-convert {\n",
              "      background-color: #3B4455;\n",
              "      fill: #D2E3FC;\n",
              "    }\n",
              "\n",
              "    [theme=dark] .colab-df-convert:hover {\n",
              "      background-color: #434B5C;\n",
              "      box-shadow: 0px 1px 3px 1px rgba(0, 0, 0, 0.15);\n",
              "      filter: drop-shadow(0px 1px 2px rgba(0, 0, 0, 0.3));\n",
              "      fill: #FFFFFF;\n",
              "    }\n",
              "  </style>\n",
              "\n",
              "      <script>\n",
              "        const buttonEl =\n",
              "          document.querySelector('#df-a57dd2a1-060e-4178-854b-0accb941123f button.colab-df-convert');\n",
              "        buttonEl.style.display =\n",
              "          google.colab.kernel.accessAllowed ? 'block' : 'none';\n",
              "\n",
              "        async function convertToInteractive(key) {\n",
              "          const element = document.querySelector('#df-a57dd2a1-060e-4178-854b-0accb941123f');\n",
              "          const dataTable =\n",
              "            await google.colab.kernel.invokeFunction('convertToInteractive',\n",
              "                                                     [key], {});\n",
              "          if (!dataTable) return;\n",
              "\n",
              "          const docLinkHtml = 'Like what you see? Visit the ' +\n",
              "            '<a target=\"_blank\" href=https://colab.research.google.com/notebooks/data_table.ipynb>data table notebook</a>'\n",
              "            + ' to learn more about interactive tables.';\n",
              "          element.innerHTML = '';\n",
              "          dataTable['output_type'] = 'display_data';\n",
              "          await google.colab.output.renderOutput(dataTable, element);\n",
              "          const docLink = document.createElement('div');\n",
              "          docLink.innerHTML = docLinkHtml;\n",
              "          element.appendChild(docLink);\n",
              "        }\n",
              "      </script>\n",
              "    </div>\n",
              "  </div>\n",
              "  "
            ]
          },
          "metadata": {},
          "execution_count": 67
        }
      ]
    },
    {
      "cell_type": "code",
      "source": [
        "Sylwetka = []\n",
        "for i in range(2,len(df)):\n",
        "  km = KMeans(n_clusters = i).fit(auta)\n",
        "  df['klastry_km'] = km.labels_\n",
        "\n",
        "  sylwetka_km = round(silhouette_score(auta, km.labels_), 4)\n",
        "  Sylwetka.append(sylwetka_km)\n",
        " "
      ],
      "metadata": {
        "id": "4s0A8OgCIv2n"
      },
      "execution_count": null,
      "outputs": []
    },
    {
      "cell_type": "code",
      "source": [
        "Sylwetka"
      ],
      "metadata": {
        "colab": {
          "base_uri": "https://localhost:8080/"
        },
        "id": "a2CKdGYHJU5Y",
        "outputId": "b5c79914-fd16-45e1-858a-36bcb8053b5e"
      },
      "execution_count": null,
      "outputs": [
        {
          "output_type": "execute_result",
          "data": {
            "text/plain": [
              "[0.6241,\n",
              " 0.3495,\n",
              " 0.2855,\n",
              " 0.3211,\n",
              " 0.2613,\n",
              " 0.2709,\n",
              " 0.2756,\n",
              " 0.291,\n",
              " 0.2663,\n",
              " 0.2722,\n",
              " 0.2717,\n",
              " 0.2689,\n",
              " 0.2544,\n",
              " 0.2656,\n",
              " 0.2502,\n",
              " 0.2802,\n",
              " 0.265,\n",
              " 0.2472,\n",
              " 0.2575,\n",
              " 0.2488,\n",
              " 0.2317,\n",
              " 0.2183,\n",
              " 0.2441,\n",
              " 0.2447,\n",
              " 0.2392,\n",
              " 0.2317,\n",
              " 0.2133,\n",
              " 0.2348,\n",
              " 0.2258,\n",
              " 0.2082,\n",
              " 0.2151,\n",
              " 0.193,\n",
              " 0.2004,\n",
              " 0.1894,\n",
              " 0.1856,\n",
              " 0.1698,\n",
              " 0.1637,\n",
              " 0.1487,\n",
              " 0.1353,\n",
              " 0.1352,\n",
              " 0.1241,\n",
              " 0.0997,\n",
              " 0.1083,\n",
              " 0.0884,\n",
              " 0.0801,\n",
              " 0.0693,\n",
              " 0.0606,\n",
              " 0.0542,\n",
              " 0.0395,\n",
              " 0.0262,\n",
              " 0.0101]"
            ]
          },
          "metadata": {},
          "execution_count": 16
        }
      ]
    }
  ]
}