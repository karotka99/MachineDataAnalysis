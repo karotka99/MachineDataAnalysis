{
  "nbformat": 4,
  "nbformat_minor": 0,
  "metadata": {
    "colab": {
      "provenance": []
    },
    "kernelspec": {
      "name": "python3",
      "display_name": "Python 3"
    },
    "language_info": {
      "name": "python"
    }
  },
  "cells": [
    {
      "cell_type": "markdown",
      "source": [
        "Solve to reduce the number of variables describing the three categories of wines. To verify the effectiveness of the reduction, build a classifier that allows you to assign new cases to one of the three groups of wines for the original variables and for the new principal components. Use one of the three algorithms:\n",
        "- k-nearest neighbor;\n",
        "- decision trees;\n",
        "- naive Bayesian classifier."
      ],
      "metadata": {
        "id": "u87zdjr2gljA"
      }
    },
    {
      "cell_type": "markdown",
      "source": [
        "### Imports"
      ],
      "metadata": {
        "id": "LtU3MhcegzO3"
      }
    },
    {
      "cell_type": "code",
      "execution_count": 1,
      "metadata": {
        "id": "rYn6zx-nUj16"
      },
      "outputs": [],
      "source": [
        "from sklearn.naive_bayes import GaussianNB\n",
        "# from sklearn.tree import DecisionTreeClassifier\n",
        "# from sklearn.neighbors import KNeighborsClassifier\n",
        "\n",
        "from sklearn.model_selection import train_test_split\n",
        "from sklearn.metrics import classification_report, confusion_matrix, plot_confusion_matrix\n",
        "\n",
        "import numpy as np\n",
        "import pandas as pd\n",
        "import matplotlib.pyplot as plt\n",
        "import seaborn as sb\n",
        "\n",
        "from plotnine import *\n",
        "from numpy.linalg import eig\n",
        "from sklearn import metrics\n",
        "import seaborn as sns; sns.set_theme()"
      ]
    },
    {
      "cell_type": "markdown",
      "source": [
        "### Data import"
      ],
      "metadata": {
        "id": "6PP7KRgvg7p_"
      }
    },
    {
      "cell_type": "code",
      "source": [
        "satysf= pd.read_csv('wina.csv', sep = ',', decimal = '.')\n",
        "X = satysf[satysf.columns[:-1]]\n",
        "y = satysf[satysf.columns[-1]]\n",
        "satysf"
      ],
      "metadata": {
        "colab": {
          "base_uri": "https://localhost:8080/",
          "height": 424
        },
        "id": "Kkcu6US4Utcn",
        "outputId": "34633b31-7da1-43fa-f68a-ed6b699a8e03"
      },
      "execution_count": 2,
      "outputs": [
        {
          "output_type": "execute_result",
          "data": {
            "text/plain": [
              "        x1    x2    x3    x4   x5    x6    x7    x8    x9    x10   x11   x12  \\\n",
              "0    14.23  1.71  2.43  15.6  127  2.80  3.06  0.28  2.29   5.64  1.04  3.92   \n",
              "1    13.20  1.78  2.14  11.2  100  2.65  2.76  0.26  1.28   4.38  1.05  3.40   \n",
              "2    13.16  2.36  2.67  18.6  101  2.80  3.24  0.30  2.81   5.68  1.03  3.17   \n",
              "3    14.37  1.95  2.50  16.8  113  3.85  3.49  0.24  2.18   7.80  0.86  3.45   \n",
              "4    13.24  2.59  2.87  21.0  118  2.80  2.69  0.39  1.82   4.32  1.04  2.93   \n",
              "..     ...   ...   ...   ...  ...   ...   ...   ...   ...    ...   ...   ...   \n",
              "173  13.71  5.65  2.45  20.5   95  1.68  0.61  0.52  1.06   7.70  0.64  1.74   \n",
              "174  13.40  3.91  2.48  23.0  102  1.80  0.75  0.43  1.41   7.30  0.70  1.56   \n",
              "175  13.27  4.28  2.26  20.0  120  1.59  0.69  0.43  1.35  10.20  0.59  1.56   \n",
              "176  13.17  2.59  2.37  20.0  120  1.65  0.68  0.53  1.46   9.30  0.60  1.62   \n",
              "177  14.13  4.10  2.74  24.5   96  2.05  0.76  0.56  1.35   9.20  0.61  1.60   \n",
              "\n",
              "      x13  class  \n",
              "0    1065      1  \n",
              "1    1050      1  \n",
              "2    1185      1  \n",
              "3    1480      1  \n",
              "4     735      1  \n",
              "..    ...    ...  \n",
              "173   740      3  \n",
              "174   750      3  \n",
              "175   835      3  \n",
              "176   840      3  \n",
              "177   560      3  \n",
              "\n",
              "[178 rows x 14 columns]"
            ],
            "text/html": [
              "\n",
              "  <div id=\"df-2f52d3e3-6e4b-4071-8f77-9fb1729b9eae\">\n",
              "    <div class=\"colab-df-container\">\n",
              "      <div>\n",
              "<style scoped>\n",
              "    .dataframe tbody tr th:only-of-type {\n",
              "        vertical-align: middle;\n",
              "    }\n",
              "\n",
              "    .dataframe tbody tr th {\n",
              "        vertical-align: top;\n",
              "    }\n",
              "\n",
              "    .dataframe thead th {\n",
              "        text-align: right;\n",
              "    }\n",
              "</style>\n",
              "<table border=\"1\" class=\"dataframe\">\n",
              "  <thead>\n",
              "    <tr style=\"text-align: right;\">\n",
              "      <th></th>\n",
              "      <th>x1</th>\n",
              "      <th>x2</th>\n",
              "      <th>x3</th>\n",
              "      <th>x4</th>\n",
              "      <th>x5</th>\n",
              "      <th>x6</th>\n",
              "      <th>x7</th>\n",
              "      <th>x8</th>\n",
              "      <th>x9</th>\n",
              "      <th>x10</th>\n",
              "      <th>x11</th>\n",
              "      <th>x12</th>\n",
              "      <th>x13</th>\n",
              "      <th>class</th>\n",
              "    </tr>\n",
              "  </thead>\n",
              "  <tbody>\n",
              "    <tr>\n",
              "      <th>0</th>\n",
              "      <td>14.23</td>\n",
              "      <td>1.71</td>\n",
              "      <td>2.43</td>\n",
              "      <td>15.6</td>\n",
              "      <td>127</td>\n",
              "      <td>2.80</td>\n",
              "      <td>3.06</td>\n",
              "      <td>0.28</td>\n",
              "      <td>2.29</td>\n",
              "      <td>5.64</td>\n",
              "      <td>1.04</td>\n",
              "      <td>3.92</td>\n",
              "      <td>1065</td>\n",
              "      <td>1</td>\n",
              "    </tr>\n",
              "    <tr>\n",
              "      <th>1</th>\n",
              "      <td>13.20</td>\n",
              "      <td>1.78</td>\n",
              "      <td>2.14</td>\n",
              "      <td>11.2</td>\n",
              "      <td>100</td>\n",
              "      <td>2.65</td>\n",
              "      <td>2.76</td>\n",
              "      <td>0.26</td>\n",
              "      <td>1.28</td>\n",
              "      <td>4.38</td>\n",
              "      <td>1.05</td>\n",
              "      <td>3.40</td>\n",
              "      <td>1050</td>\n",
              "      <td>1</td>\n",
              "    </tr>\n",
              "    <tr>\n",
              "      <th>2</th>\n",
              "      <td>13.16</td>\n",
              "      <td>2.36</td>\n",
              "      <td>2.67</td>\n",
              "      <td>18.6</td>\n",
              "      <td>101</td>\n",
              "      <td>2.80</td>\n",
              "      <td>3.24</td>\n",
              "      <td>0.30</td>\n",
              "      <td>2.81</td>\n",
              "      <td>5.68</td>\n",
              "      <td>1.03</td>\n",
              "      <td>3.17</td>\n",
              "      <td>1185</td>\n",
              "      <td>1</td>\n",
              "    </tr>\n",
              "    <tr>\n",
              "      <th>3</th>\n",
              "      <td>14.37</td>\n",
              "      <td>1.95</td>\n",
              "      <td>2.50</td>\n",
              "      <td>16.8</td>\n",
              "      <td>113</td>\n",
              "      <td>3.85</td>\n",
              "      <td>3.49</td>\n",
              "      <td>0.24</td>\n",
              "      <td>2.18</td>\n",
              "      <td>7.80</td>\n",
              "      <td>0.86</td>\n",
              "      <td>3.45</td>\n",
              "      <td>1480</td>\n",
              "      <td>1</td>\n",
              "    </tr>\n",
              "    <tr>\n",
              "      <th>4</th>\n",
              "      <td>13.24</td>\n",
              "      <td>2.59</td>\n",
              "      <td>2.87</td>\n",
              "      <td>21.0</td>\n",
              "      <td>118</td>\n",
              "      <td>2.80</td>\n",
              "      <td>2.69</td>\n",
              "      <td>0.39</td>\n",
              "      <td>1.82</td>\n",
              "      <td>4.32</td>\n",
              "      <td>1.04</td>\n",
              "      <td>2.93</td>\n",
              "      <td>735</td>\n",
              "      <td>1</td>\n",
              "    </tr>\n",
              "    <tr>\n",
              "      <th>...</th>\n",
              "      <td>...</td>\n",
              "      <td>...</td>\n",
              "      <td>...</td>\n",
              "      <td>...</td>\n",
              "      <td>...</td>\n",
              "      <td>...</td>\n",
              "      <td>...</td>\n",
              "      <td>...</td>\n",
              "      <td>...</td>\n",
              "      <td>...</td>\n",
              "      <td>...</td>\n",
              "      <td>...</td>\n",
              "      <td>...</td>\n",
              "      <td>...</td>\n",
              "    </tr>\n",
              "    <tr>\n",
              "      <th>173</th>\n",
              "      <td>13.71</td>\n",
              "      <td>5.65</td>\n",
              "      <td>2.45</td>\n",
              "      <td>20.5</td>\n",
              "      <td>95</td>\n",
              "      <td>1.68</td>\n",
              "      <td>0.61</td>\n",
              "      <td>0.52</td>\n",
              "      <td>1.06</td>\n",
              "      <td>7.70</td>\n",
              "      <td>0.64</td>\n",
              "      <td>1.74</td>\n",
              "      <td>740</td>\n",
              "      <td>3</td>\n",
              "    </tr>\n",
              "    <tr>\n",
              "      <th>174</th>\n",
              "      <td>13.40</td>\n",
              "      <td>3.91</td>\n",
              "      <td>2.48</td>\n",
              "      <td>23.0</td>\n",
              "      <td>102</td>\n",
              "      <td>1.80</td>\n",
              "      <td>0.75</td>\n",
              "      <td>0.43</td>\n",
              "      <td>1.41</td>\n",
              "      <td>7.30</td>\n",
              "      <td>0.70</td>\n",
              "      <td>1.56</td>\n",
              "      <td>750</td>\n",
              "      <td>3</td>\n",
              "    </tr>\n",
              "    <tr>\n",
              "      <th>175</th>\n",
              "      <td>13.27</td>\n",
              "      <td>4.28</td>\n",
              "      <td>2.26</td>\n",
              "      <td>20.0</td>\n",
              "      <td>120</td>\n",
              "      <td>1.59</td>\n",
              "      <td>0.69</td>\n",
              "      <td>0.43</td>\n",
              "      <td>1.35</td>\n",
              "      <td>10.20</td>\n",
              "      <td>0.59</td>\n",
              "      <td>1.56</td>\n",
              "      <td>835</td>\n",
              "      <td>3</td>\n",
              "    </tr>\n",
              "    <tr>\n",
              "      <th>176</th>\n",
              "      <td>13.17</td>\n",
              "      <td>2.59</td>\n",
              "      <td>2.37</td>\n",
              "      <td>20.0</td>\n",
              "      <td>120</td>\n",
              "      <td>1.65</td>\n",
              "      <td>0.68</td>\n",
              "      <td>0.53</td>\n",
              "      <td>1.46</td>\n",
              "      <td>9.30</td>\n",
              "      <td>0.60</td>\n",
              "      <td>1.62</td>\n",
              "      <td>840</td>\n",
              "      <td>3</td>\n",
              "    </tr>\n",
              "    <tr>\n",
              "      <th>177</th>\n",
              "      <td>14.13</td>\n",
              "      <td>4.10</td>\n",
              "      <td>2.74</td>\n",
              "      <td>24.5</td>\n",
              "      <td>96</td>\n",
              "      <td>2.05</td>\n",
              "      <td>0.76</td>\n",
              "      <td>0.56</td>\n",
              "      <td>1.35</td>\n",
              "      <td>9.20</td>\n",
              "      <td>0.61</td>\n",
              "      <td>1.60</td>\n",
              "      <td>560</td>\n",
              "      <td>3</td>\n",
              "    </tr>\n",
              "  </tbody>\n",
              "</table>\n",
              "<p>178 rows × 14 columns</p>\n",
              "</div>\n",
              "      <button class=\"colab-df-convert\" onclick=\"convertToInteractive('df-2f52d3e3-6e4b-4071-8f77-9fb1729b9eae')\"\n",
              "              title=\"Convert this dataframe to an interactive table.\"\n",
              "              style=\"display:none;\">\n",
              "        \n",
              "  <svg xmlns=\"http://www.w3.org/2000/svg\" height=\"24px\"viewBox=\"0 0 24 24\"\n",
              "       width=\"24px\">\n",
              "    <path d=\"M0 0h24v24H0V0z\" fill=\"none\"/>\n",
              "    <path d=\"M18.56 5.44l.94 2.06.94-2.06 2.06-.94-2.06-.94-.94-2.06-.94 2.06-2.06.94zm-11 1L8.5 8.5l.94-2.06 2.06-.94-2.06-.94L8.5 2.5l-.94 2.06-2.06.94zm10 10l.94 2.06.94-2.06 2.06-.94-2.06-.94-.94-2.06-.94 2.06-2.06.94z\"/><path d=\"M17.41 7.96l-1.37-1.37c-.4-.4-.92-.59-1.43-.59-.52 0-1.04.2-1.43.59L10.3 9.45l-7.72 7.72c-.78.78-.78 2.05 0 2.83L4 21.41c.39.39.9.59 1.41.59.51 0 1.02-.2 1.41-.59l7.78-7.78 2.81-2.81c.8-.78.8-2.07 0-2.86zM5.41 20L4 18.59l7.72-7.72 1.47 1.35L5.41 20z\"/>\n",
              "  </svg>\n",
              "      </button>\n",
              "      \n",
              "  <style>\n",
              "    .colab-df-container {\n",
              "      display:flex;\n",
              "      flex-wrap:wrap;\n",
              "      gap: 12px;\n",
              "    }\n",
              "\n",
              "    .colab-df-convert {\n",
              "      background-color: #E8F0FE;\n",
              "      border: none;\n",
              "      border-radius: 50%;\n",
              "      cursor: pointer;\n",
              "      display: none;\n",
              "      fill: #1967D2;\n",
              "      height: 32px;\n",
              "      padding: 0 0 0 0;\n",
              "      width: 32px;\n",
              "    }\n",
              "\n",
              "    .colab-df-convert:hover {\n",
              "      background-color: #E2EBFA;\n",
              "      box-shadow: 0px 1px 2px rgba(60, 64, 67, 0.3), 0px 1px 3px 1px rgba(60, 64, 67, 0.15);\n",
              "      fill: #174EA6;\n",
              "    }\n",
              "\n",
              "    [theme=dark] .colab-df-convert {\n",
              "      background-color: #3B4455;\n",
              "      fill: #D2E3FC;\n",
              "    }\n",
              "\n",
              "    [theme=dark] .colab-df-convert:hover {\n",
              "      background-color: #434B5C;\n",
              "      box-shadow: 0px 1px 3px 1px rgba(0, 0, 0, 0.15);\n",
              "      filter: drop-shadow(0px 1px 2px rgba(0, 0, 0, 0.3));\n",
              "      fill: #FFFFFF;\n",
              "    }\n",
              "  </style>\n",
              "\n",
              "      <script>\n",
              "        const buttonEl =\n",
              "          document.querySelector('#df-2f52d3e3-6e4b-4071-8f77-9fb1729b9eae button.colab-df-convert');\n",
              "        buttonEl.style.display =\n",
              "          google.colab.kernel.accessAllowed ? 'block' : 'none';\n",
              "\n",
              "        async function convertToInteractive(key) {\n",
              "          const element = document.querySelector('#df-2f52d3e3-6e4b-4071-8f77-9fb1729b9eae');\n",
              "          const dataTable =\n",
              "            await google.colab.kernel.invokeFunction('convertToInteractive',\n",
              "                                                     [key], {});\n",
              "          if (!dataTable) return;\n",
              "\n",
              "          const docLinkHtml = 'Like what you see? Visit the ' +\n",
              "            '<a target=\"_blank\" href=https://colab.research.google.com/notebooks/data_table.ipynb>data table notebook</a>'\n",
              "            + ' to learn more about interactive tables.';\n",
              "          element.innerHTML = '';\n",
              "          dataTable['output_type'] = 'display_data';\n",
              "          await google.colab.output.renderOutput(dataTable, element);\n",
              "          const docLink = document.createElement('div');\n",
              "          docLink.innerHTML = docLinkHtml;\n",
              "          element.appendChild(docLink);\n",
              "        }\n",
              "      </script>\n",
              "    </div>\n",
              "  </div>\n",
              "  "
            ]
          },
          "metadata": {},
          "execution_count": 2
        }
      ]
    },
    {
      "cell_type": "markdown",
      "source": [
        "### Standarization"
      ],
      "metadata": {
        "id": "tldDejBSg4fn"
      }
    },
    {
      "cell_type": "code",
      "source": [
        "from sklearn.preprocessing import StandardScaler\n",
        "\n",
        "sc_Stand = StandardScaler()\n",
        "X = sc_Stand.fit_transform(X)"
      ],
      "metadata": {
        "id": "p9Y1jfZ7UtZv"
      },
      "execution_count": 3,
      "outputs": []
    },
    {
      "cell_type": "markdown",
      "source": [
        "## Correlation matrix"
      ],
      "metadata": {
        "id": "gngqrDe_Q_YV"
      }
    },
    {
      "cell_type": "code",
      "source": [
        "pd.DataFrame(X).corr()\n"
      ],
      "metadata": {
        "colab": {
          "base_uri": "https://localhost:8080/",
          "height": 457
        },
        "id": "FLdoyzKqP1Qe",
        "outputId": "14294639-b531-4574-a1bf-b772d9a6d15a"
      },
      "execution_count": 4,
      "outputs": [
        {
          "output_type": "execute_result",
          "data": {
            "text/plain": [
              "          0         1         2         3         4         5         6   \\\n",
              "0   1.000000  0.094397  0.211545 -0.310235  0.270798  0.289101  0.236815   \n",
              "1   0.094397  1.000000  0.164045  0.288500 -0.054575 -0.335167 -0.411007   \n",
              "2   0.211545  0.164045  1.000000  0.443367  0.286587  0.128980  0.115077   \n",
              "3  -0.310235  0.288500  0.443367  1.000000 -0.083333 -0.321113 -0.351370   \n",
              "4   0.270798 -0.054575  0.286587 -0.083333  1.000000  0.214401  0.195784   \n",
              "5   0.289101 -0.335167  0.128980 -0.321113  0.214401  1.000000  0.864564   \n",
              "6   0.236815 -0.411007  0.115077 -0.351370  0.195784  0.864564  1.000000   \n",
              "7  -0.155929  0.292977  0.186230  0.361922 -0.256294 -0.449935 -0.537900   \n",
              "8   0.136698 -0.220746  0.009652 -0.197327  0.236441  0.612413  0.652692   \n",
              "9   0.546364  0.248985  0.258887  0.018732  0.199950 -0.055136 -0.172379   \n",
              "10 -0.071747 -0.561296 -0.074667 -0.273955  0.055398  0.433681  0.543479   \n",
              "11  0.072343 -0.368710  0.003911 -0.276769  0.066004  0.699949  0.787194   \n",
              "12  0.643720 -0.192011  0.223626 -0.440597  0.393351  0.498115  0.494193   \n",
              "\n",
              "          7         8         9         10        11        12  \n",
              "0  -0.155929  0.136698  0.546364 -0.071747  0.072343  0.643720  \n",
              "1   0.292977 -0.220746  0.248985 -0.561296 -0.368710 -0.192011  \n",
              "2   0.186230  0.009652  0.258887 -0.074667  0.003911  0.223626  \n",
              "3   0.361922 -0.197327  0.018732 -0.273955 -0.276769 -0.440597  \n",
              "4  -0.256294  0.236441  0.199950  0.055398  0.066004  0.393351  \n",
              "5  -0.449935  0.612413 -0.055136  0.433681  0.699949  0.498115  \n",
              "6  -0.537900  0.652692 -0.172379  0.543479  0.787194  0.494193  \n",
              "7   1.000000 -0.365845  0.139057 -0.262640 -0.503270 -0.311385  \n",
              "8  -0.365845  1.000000 -0.025250  0.295544  0.519067  0.330417  \n",
              "9   0.139057 -0.025250  1.000000 -0.521813 -0.428815  0.316100  \n",
              "10 -0.262640  0.295544 -0.521813  1.000000  0.565468  0.236183  \n",
              "11 -0.503270  0.519067 -0.428815  0.565468  1.000000  0.312761  \n",
              "12 -0.311385  0.330417  0.316100  0.236183  0.312761  1.000000  "
            ],
            "text/html": [
              "\n",
              "  <div id=\"df-5513b9fa-c3ec-4e79-b953-557378c47f1a\">\n",
              "    <div class=\"colab-df-container\">\n",
              "      <div>\n",
              "<style scoped>\n",
              "    .dataframe tbody tr th:only-of-type {\n",
              "        vertical-align: middle;\n",
              "    }\n",
              "\n",
              "    .dataframe tbody tr th {\n",
              "        vertical-align: top;\n",
              "    }\n",
              "\n",
              "    .dataframe thead th {\n",
              "        text-align: right;\n",
              "    }\n",
              "</style>\n",
              "<table border=\"1\" class=\"dataframe\">\n",
              "  <thead>\n",
              "    <tr style=\"text-align: right;\">\n",
              "      <th></th>\n",
              "      <th>0</th>\n",
              "      <th>1</th>\n",
              "      <th>2</th>\n",
              "      <th>3</th>\n",
              "      <th>4</th>\n",
              "      <th>5</th>\n",
              "      <th>6</th>\n",
              "      <th>7</th>\n",
              "      <th>8</th>\n",
              "      <th>9</th>\n",
              "      <th>10</th>\n",
              "      <th>11</th>\n",
              "      <th>12</th>\n",
              "    </tr>\n",
              "  </thead>\n",
              "  <tbody>\n",
              "    <tr>\n",
              "      <th>0</th>\n",
              "      <td>1.000000</td>\n",
              "      <td>0.094397</td>\n",
              "      <td>0.211545</td>\n",
              "      <td>-0.310235</td>\n",
              "      <td>0.270798</td>\n",
              "      <td>0.289101</td>\n",
              "      <td>0.236815</td>\n",
              "      <td>-0.155929</td>\n",
              "      <td>0.136698</td>\n",
              "      <td>0.546364</td>\n",
              "      <td>-0.071747</td>\n",
              "      <td>0.072343</td>\n",
              "      <td>0.643720</td>\n",
              "    </tr>\n",
              "    <tr>\n",
              "      <th>1</th>\n",
              "      <td>0.094397</td>\n",
              "      <td>1.000000</td>\n",
              "      <td>0.164045</td>\n",
              "      <td>0.288500</td>\n",
              "      <td>-0.054575</td>\n",
              "      <td>-0.335167</td>\n",
              "      <td>-0.411007</td>\n",
              "      <td>0.292977</td>\n",
              "      <td>-0.220746</td>\n",
              "      <td>0.248985</td>\n",
              "      <td>-0.561296</td>\n",
              "      <td>-0.368710</td>\n",
              "      <td>-0.192011</td>\n",
              "    </tr>\n",
              "    <tr>\n",
              "      <th>2</th>\n",
              "      <td>0.211545</td>\n",
              "      <td>0.164045</td>\n",
              "      <td>1.000000</td>\n",
              "      <td>0.443367</td>\n",
              "      <td>0.286587</td>\n",
              "      <td>0.128980</td>\n",
              "      <td>0.115077</td>\n",
              "      <td>0.186230</td>\n",
              "      <td>0.009652</td>\n",
              "      <td>0.258887</td>\n",
              "      <td>-0.074667</td>\n",
              "      <td>0.003911</td>\n",
              "      <td>0.223626</td>\n",
              "    </tr>\n",
              "    <tr>\n",
              "      <th>3</th>\n",
              "      <td>-0.310235</td>\n",
              "      <td>0.288500</td>\n",
              "      <td>0.443367</td>\n",
              "      <td>1.000000</td>\n",
              "      <td>-0.083333</td>\n",
              "      <td>-0.321113</td>\n",
              "      <td>-0.351370</td>\n",
              "      <td>0.361922</td>\n",
              "      <td>-0.197327</td>\n",
              "      <td>0.018732</td>\n",
              "      <td>-0.273955</td>\n",
              "      <td>-0.276769</td>\n",
              "      <td>-0.440597</td>\n",
              "    </tr>\n",
              "    <tr>\n",
              "      <th>4</th>\n",
              "      <td>0.270798</td>\n",
              "      <td>-0.054575</td>\n",
              "      <td>0.286587</td>\n",
              "      <td>-0.083333</td>\n",
              "      <td>1.000000</td>\n",
              "      <td>0.214401</td>\n",
              "      <td>0.195784</td>\n",
              "      <td>-0.256294</td>\n",
              "      <td>0.236441</td>\n",
              "      <td>0.199950</td>\n",
              "      <td>0.055398</td>\n",
              "      <td>0.066004</td>\n",
              "      <td>0.393351</td>\n",
              "    </tr>\n",
              "    <tr>\n",
              "      <th>5</th>\n",
              "      <td>0.289101</td>\n",
              "      <td>-0.335167</td>\n",
              "      <td>0.128980</td>\n",
              "      <td>-0.321113</td>\n",
              "      <td>0.214401</td>\n",
              "      <td>1.000000</td>\n",
              "      <td>0.864564</td>\n",
              "      <td>-0.449935</td>\n",
              "      <td>0.612413</td>\n",
              "      <td>-0.055136</td>\n",
              "      <td>0.433681</td>\n",
              "      <td>0.699949</td>\n",
              "      <td>0.498115</td>\n",
              "    </tr>\n",
              "    <tr>\n",
              "      <th>6</th>\n",
              "      <td>0.236815</td>\n",
              "      <td>-0.411007</td>\n",
              "      <td>0.115077</td>\n",
              "      <td>-0.351370</td>\n",
              "      <td>0.195784</td>\n",
              "      <td>0.864564</td>\n",
              "      <td>1.000000</td>\n",
              "      <td>-0.537900</td>\n",
              "      <td>0.652692</td>\n",
              "      <td>-0.172379</td>\n",
              "      <td>0.543479</td>\n",
              "      <td>0.787194</td>\n",
              "      <td>0.494193</td>\n",
              "    </tr>\n",
              "    <tr>\n",
              "      <th>7</th>\n",
              "      <td>-0.155929</td>\n",
              "      <td>0.292977</td>\n",
              "      <td>0.186230</td>\n",
              "      <td>0.361922</td>\n",
              "      <td>-0.256294</td>\n",
              "      <td>-0.449935</td>\n",
              "      <td>-0.537900</td>\n",
              "      <td>1.000000</td>\n",
              "      <td>-0.365845</td>\n",
              "      <td>0.139057</td>\n",
              "      <td>-0.262640</td>\n",
              "      <td>-0.503270</td>\n",
              "      <td>-0.311385</td>\n",
              "    </tr>\n",
              "    <tr>\n",
              "      <th>8</th>\n",
              "      <td>0.136698</td>\n",
              "      <td>-0.220746</td>\n",
              "      <td>0.009652</td>\n",
              "      <td>-0.197327</td>\n",
              "      <td>0.236441</td>\n",
              "      <td>0.612413</td>\n",
              "      <td>0.652692</td>\n",
              "      <td>-0.365845</td>\n",
              "      <td>1.000000</td>\n",
              "      <td>-0.025250</td>\n",
              "      <td>0.295544</td>\n",
              "      <td>0.519067</td>\n",
              "      <td>0.330417</td>\n",
              "    </tr>\n",
              "    <tr>\n",
              "      <th>9</th>\n",
              "      <td>0.546364</td>\n",
              "      <td>0.248985</td>\n",
              "      <td>0.258887</td>\n",
              "      <td>0.018732</td>\n",
              "      <td>0.199950</td>\n",
              "      <td>-0.055136</td>\n",
              "      <td>-0.172379</td>\n",
              "      <td>0.139057</td>\n",
              "      <td>-0.025250</td>\n",
              "      <td>1.000000</td>\n",
              "      <td>-0.521813</td>\n",
              "      <td>-0.428815</td>\n",
              "      <td>0.316100</td>\n",
              "    </tr>\n",
              "    <tr>\n",
              "      <th>10</th>\n",
              "      <td>-0.071747</td>\n",
              "      <td>-0.561296</td>\n",
              "      <td>-0.074667</td>\n",
              "      <td>-0.273955</td>\n",
              "      <td>0.055398</td>\n",
              "      <td>0.433681</td>\n",
              "      <td>0.543479</td>\n",
              "      <td>-0.262640</td>\n",
              "      <td>0.295544</td>\n",
              "      <td>-0.521813</td>\n",
              "      <td>1.000000</td>\n",
              "      <td>0.565468</td>\n",
              "      <td>0.236183</td>\n",
              "    </tr>\n",
              "    <tr>\n",
              "      <th>11</th>\n",
              "      <td>0.072343</td>\n",
              "      <td>-0.368710</td>\n",
              "      <td>0.003911</td>\n",
              "      <td>-0.276769</td>\n",
              "      <td>0.066004</td>\n",
              "      <td>0.699949</td>\n",
              "      <td>0.787194</td>\n",
              "      <td>-0.503270</td>\n",
              "      <td>0.519067</td>\n",
              "      <td>-0.428815</td>\n",
              "      <td>0.565468</td>\n",
              "      <td>1.000000</td>\n",
              "      <td>0.312761</td>\n",
              "    </tr>\n",
              "    <tr>\n",
              "      <th>12</th>\n",
              "      <td>0.643720</td>\n",
              "      <td>-0.192011</td>\n",
              "      <td>0.223626</td>\n",
              "      <td>-0.440597</td>\n",
              "      <td>0.393351</td>\n",
              "      <td>0.498115</td>\n",
              "      <td>0.494193</td>\n",
              "      <td>-0.311385</td>\n",
              "      <td>0.330417</td>\n",
              "      <td>0.316100</td>\n",
              "      <td>0.236183</td>\n",
              "      <td>0.312761</td>\n",
              "      <td>1.000000</td>\n",
              "    </tr>\n",
              "  </tbody>\n",
              "</table>\n",
              "</div>\n",
              "      <button class=\"colab-df-convert\" onclick=\"convertToInteractive('df-5513b9fa-c3ec-4e79-b953-557378c47f1a')\"\n",
              "              title=\"Convert this dataframe to an interactive table.\"\n",
              "              style=\"display:none;\">\n",
              "        \n",
              "  <svg xmlns=\"http://www.w3.org/2000/svg\" height=\"24px\"viewBox=\"0 0 24 24\"\n",
              "       width=\"24px\">\n",
              "    <path d=\"M0 0h24v24H0V0z\" fill=\"none\"/>\n",
              "    <path d=\"M18.56 5.44l.94 2.06.94-2.06 2.06-.94-2.06-.94-.94-2.06-.94 2.06-2.06.94zm-11 1L8.5 8.5l.94-2.06 2.06-.94-2.06-.94L8.5 2.5l-.94 2.06-2.06.94zm10 10l.94 2.06.94-2.06 2.06-.94-2.06-.94-.94-2.06-.94 2.06-2.06.94z\"/><path d=\"M17.41 7.96l-1.37-1.37c-.4-.4-.92-.59-1.43-.59-.52 0-1.04.2-1.43.59L10.3 9.45l-7.72 7.72c-.78.78-.78 2.05 0 2.83L4 21.41c.39.39.9.59 1.41.59.51 0 1.02-.2 1.41-.59l7.78-7.78 2.81-2.81c.8-.78.8-2.07 0-2.86zM5.41 20L4 18.59l7.72-7.72 1.47 1.35L5.41 20z\"/>\n",
              "  </svg>\n",
              "      </button>\n",
              "      \n",
              "  <style>\n",
              "    .colab-df-container {\n",
              "      display:flex;\n",
              "      flex-wrap:wrap;\n",
              "      gap: 12px;\n",
              "    }\n",
              "\n",
              "    .colab-df-convert {\n",
              "      background-color: #E8F0FE;\n",
              "      border: none;\n",
              "      border-radius: 50%;\n",
              "      cursor: pointer;\n",
              "      display: none;\n",
              "      fill: #1967D2;\n",
              "      height: 32px;\n",
              "      padding: 0 0 0 0;\n",
              "      width: 32px;\n",
              "    }\n",
              "\n",
              "    .colab-df-convert:hover {\n",
              "      background-color: #E2EBFA;\n",
              "      box-shadow: 0px 1px 2px rgba(60, 64, 67, 0.3), 0px 1px 3px 1px rgba(60, 64, 67, 0.15);\n",
              "      fill: #174EA6;\n",
              "    }\n",
              "\n",
              "    [theme=dark] .colab-df-convert {\n",
              "      background-color: #3B4455;\n",
              "      fill: #D2E3FC;\n",
              "    }\n",
              "\n",
              "    [theme=dark] .colab-df-convert:hover {\n",
              "      background-color: #434B5C;\n",
              "      box-shadow: 0px 1px 3px 1px rgba(0, 0, 0, 0.15);\n",
              "      filter: drop-shadow(0px 1px 2px rgba(0, 0, 0, 0.3));\n",
              "      fill: #FFFFFF;\n",
              "    }\n",
              "  </style>\n",
              "\n",
              "      <script>\n",
              "        const buttonEl =\n",
              "          document.querySelector('#df-5513b9fa-c3ec-4e79-b953-557378c47f1a button.colab-df-convert');\n",
              "        buttonEl.style.display =\n",
              "          google.colab.kernel.accessAllowed ? 'block' : 'none';\n",
              "\n",
              "        async function convertToInteractive(key) {\n",
              "          const element = document.querySelector('#df-5513b9fa-c3ec-4e79-b953-557378c47f1a');\n",
              "          const dataTable =\n",
              "            await google.colab.kernel.invokeFunction('convertToInteractive',\n",
              "                                                     [key], {});\n",
              "          if (!dataTable) return;\n",
              "\n",
              "          const docLinkHtml = 'Like what you see? Visit the ' +\n",
              "            '<a target=\"_blank\" href=https://colab.research.google.com/notebooks/data_table.ipynb>data table notebook</a>'\n",
              "            + ' to learn more about interactive tables.';\n",
              "          element.innerHTML = '';\n",
              "          dataTable['output_type'] = 'display_data';\n",
              "          await google.colab.output.renderOutput(dataTable, element);\n",
              "          const docLink = document.createElement('div');\n",
              "          docLink.innerHTML = docLinkHtml;\n",
              "          element.appendChild(docLink);\n",
              "        }\n",
              "      </script>\n",
              "    </div>\n",
              "  </div>\n",
              "  "
            ]
          },
          "metadata": {},
          "execution_count": 4
        }
      ]
    },
    {
      "cell_type": "markdown",
      "source": [
        "## Dividing set into a training set and a test set"
      ],
      "metadata": {
        "id": "sX3N15QmRI3D"
      }
    },
    {
      "cell_type": "code",
      "source": [
        "X_train, X_test, y_train, y_test = train_test_split(X, y, test_size=0.30)"
      ],
      "metadata": {
        "id": "dH3WmCHuUtWn"
      },
      "execution_count": 5,
      "outputs": []
    },
    {
      "cell_type": "markdown",
      "source": [
        "## Classification with naive Bayes classifier of unaltered data set"
      ],
      "metadata": {
        "id": "pKHzkp0ahPX4"
      }
    },
    {
      "cell_type": "code",
      "source": [
        "from sklearn.naive_bayes import GaussianNB\n",
        "gm = GaussianNB()\n",
        "gm.fit(X_train, y_train)\n",
        "print(\"The result for the training set:\", gm.score(X_train, y_train))"
      ],
      "metadata": {
        "colab": {
          "base_uri": "https://localhost:8080/"
        },
        "id": "6nx1vWmXUtIH",
        "outputId": "1a4692d1-6cbf-485b-c98e-b0621b669f11"
      },
      "execution_count": 7,
      "outputs": [
        {
          "output_type": "stream",
          "name": "stdout",
          "text": [
            "The result for the training set: 0.9919354838709677\n"
          ]
        }
      ]
    },
    {
      "cell_type": "code",
      "source": [
        "y_pred = gm.predict(X_test)\n",
        "print(classification_report(y_test, y_pred))\n",
        "confusion_matrix = metrics.confusion_matrix(y_test,y_pred)\n",
        "cm_display = metrics.ConfusionMatrixDisplay(confusion_matrix = confusion_matrix, display_labels = [1,2,3])\n",
        "cm_display.plot()\n",
        "plt.show()"
      ],
      "metadata": {
        "colab": {
          "base_uri": "https://localhost:8080/",
          "height": 459
        },
        "id": "i5EQLboMW533",
        "outputId": "4dd89944-6df1-4d55-8d5f-ace369d6971b"
      },
      "execution_count": 8,
      "outputs": [
        {
          "output_type": "stream",
          "name": "stdout",
          "text": [
            "              precision    recall  f1-score   support\n",
            "\n",
            "           1       1.00      0.86      0.92        14\n",
            "           2       0.92      0.92      0.92        26\n",
            "           3       0.88      1.00      0.93        14\n",
            "\n",
            "    accuracy                           0.93        54\n",
            "   macro avg       0.93      0.93      0.93        54\n",
            "weighted avg       0.93      0.93      0.93        54\n",
            "\n"
          ]
        },
        {
          "output_type": "display_data",
          "data": {
            "text/plain": [
              "<Figure size 432x288 with 2 Axes>"
            ],
            "image/png": "[encoded data removed]"
          },
          "metadata": {}
        }
      ]
    },
    {
      "cell_type": "markdown",
      "source": [
        "###### The classifier built on the training set, tested on the test set gives an accuracy of 93%. This shows that the classifier works quite well, as out of 54 objects, only 4 were misclassified."
      ],
      "metadata": {
        "id": "wFhETmFW_cOX"
      }
    },
    {
      "cell_type": "markdown",
      "source": [
        "## PCA"
      ],
      "metadata": {
        "id": "wkQzDN6i5VAC"
      }
    },
    {
      "cell_type": "code",
      "source": [
        "from sklearn.decomposition import PCA"
      ],
      "metadata": {
        "id": "pLjvhvsdZLIP"
      },
      "execution_count": 9,
      "outputs": []
    },
    {
      "cell_type": "code",
      "source": [
        "pca = PCA().fit(X)\n",
        "plt.plot(pca.explained_variance_ratio_)"
      ],
      "metadata": {
        "colab": {
          "base_uri": "https://localhost:8080/",
          "height": 285
        },
        "id": "8G2gsbJDZLFX",
        "outputId": "7016eda1-150e-4459-8783-227c8f4993e4"
      },
      "execution_count": 10,
      "outputs": [
        {
          "output_type": "execute_result",
          "data": {
            "text/plain": [
              "[<matplotlib.lines.Line2D at 0x7fa629466250>]"
            ]
          },
          "metadata": {},
          "execution_count": 10
        },
        {
          "output_type": "display_data",
          "data": {
            "text/plain": [
              "<Figure size 432x288 with 1 Axes>"
            ],
            "image/png": "[encoded data removed]"
          },
          "metadata": {}
        }
      ]
    },
    {
      "cell_type": "markdown",
      "source": [
        "From the graph of the sludge, it seems that it is enough to take already 3 components."
      ],
      "metadata": {
        "id": "zdPmo8NUP7SY"
      }
    },
    {
      "cell_type": "markdown",
      "source": [
        "The coefficients in each component stay the same, no matter how many principal components we choose. So only one table with coefficients is displayed. \\\n"
      ],
      "metadata": {
        "id": "xg4oV-EpB1Xs"
      }
    },
    {
      "cell_type": "code",
      "source": [
        "count_pc = 13\n",
        "bench = pca.components_[:count_pc].T\n",
        "component = [\"PC\"+str(i) for i in range(1, count_pc+1)]\n",
        "bench_df = pd.DataFrame(bench, columns = component,\n",
        "                        index=satysf.columns[:-1])\n",
        "bench_df"
      ],
      "metadata": {
        "colab": {
          "base_uri": "https://localhost:8080/",
          "height": 457
        },
        "id": "lH1EKqTSZLCQ",
        "outputId": "27fda09b-3f28-42df-f6cb-db39992fb78b"
      },
      "execution_count": 11,
      "outputs": [
        {
          "output_type": "execute_result",
          "data": {
            "text/plain": [
              "          PC1       PC2       PC3       PC4       PC5       PC6       PC7  \\\n",
              "x1   0.144329 -0.483652 -0.207383 -0.017856 -0.265664 -0.213539 -0.056396   \n",
              "x2  -0.245188 -0.224931  0.089013  0.536890  0.035214 -0.536814  0.420524   \n",
              "x3  -0.002051 -0.316069  0.626224 -0.214176 -0.143025 -0.154475 -0.149171   \n",
              "x4  -0.239320  0.010591  0.612080  0.060859  0.066103  0.100825 -0.286969   \n",
              "x5   0.141992 -0.299634  0.130757 -0.351797  0.727049 -0.038144  0.322883   \n",
              "x6   0.394661 -0.065040  0.146179  0.198068 -0.149318  0.084122 -0.027925   \n",
              "x7   0.422934  0.003360  0.150682  0.152295 -0.109026  0.018920 -0.060685   \n",
              "x8  -0.298533 -0.028779  0.170368 -0.203301 -0.500703  0.258594  0.595447   \n",
              "x9   0.313429 -0.039302  0.149454  0.399057  0.136860  0.533795  0.372139   \n",
              "x10 -0.088617 -0.529996 -0.137306  0.065926 -0.076437  0.418644 -0.227712   \n",
              "x11  0.296715  0.279235  0.085222 -0.427771 -0.173615 -0.105983  0.232076   \n",
              "x12  0.376167  0.164496  0.166005  0.184121 -0.101161 -0.265851 -0.044764   \n",
              "x13  0.286752 -0.364903 -0.126746 -0.232071 -0.157869 -0.119726  0.076805   \n",
              "\n",
              "          PC8       PC9      PC10      PC11      PC12      PC13  \n",
              "x1  -0.396139  0.508619  0.211605 -0.225917 -0.266286  0.014970  \n",
              "x2  -0.065827 -0.075283 -0.309080  0.076486  0.121696  0.025964  \n",
              "x3   0.170260 -0.307694 -0.027125 -0.498691 -0.049622 -0.141218  \n",
              "x4  -0.427970  0.200449  0.052799  0.479314 -0.055743  0.091683  \n",
              "x5   0.156361  0.271403  0.067870  0.071289  0.062220  0.056774  \n",
              "x6   0.405934  0.286035 -0.320131  0.304341 -0.303882 -0.463908  \n",
              "x7   0.187245  0.049578 -0.163151 -0.025694 -0.042899  0.832257  \n",
              "x8   0.233285  0.195501  0.215535  0.116896  0.042352  0.114040  \n",
              "x9  -0.368227 -0.209145  0.134184 -0.237363 -0.095553 -0.116917  \n",
              "x10  0.033797  0.056218 -0.290775  0.031839  0.604222 -0.011993  \n",
              "x11 -0.436624  0.085828 -0.522399 -0.048212  0.259214 -0.089889  \n",
              "x12  0.078108  0.137227  0.523706  0.046423  0.600959 -0.156718  \n",
              "x13 -0.120023 -0.575786  0.162116  0.539270 -0.079402  0.014447  "
            ],
            "text/html": [
              "\n",
              "  <div id=\"df-b13e2e8f-396e-400b-afdb-2fb3d7af4f18\">\n",
              "    <div class=\"colab-df-container\">\n",
              "      <div>\n",
              "<style scoped>\n",
              "    .dataframe tbody tr th:only-of-type {\n",
              "        vertical-align: middle;\n",
              "    }\n",
              "\n",
              "    .dataframe tbody tr th {\n",
              "        vertical-align: top;\n",
              "    }\n",
              "\n",
              "    .dataframe thead th {\n",
              "        text-align: right;\n",
              "    }\n",
              "</style>\n",
              "<table border=\"1\" class=\"dataframe\">\n",
              "  <thead>\n",
              "    <tr style=\"text-align: right;\">\n",
              "      <th></th>\n",
              "      <th>PC1</th>\n",
              "      <th>PC2</th>\n",
              "      <th>PC3</th>\n",
              "      <th>PC4</th>\n",
              "      <th>PC5</th>\n",
              "      <th>PC6</th>\n",
              "      <th>PC7</th>\n",
              "      <th>PC8</th>\n",
              "      <th>PC9</th>\n",
              "      <th>PC10</th>\n",
              "      <th>PC11</th>\n",
              "      <th>PC12</th>\n",
              "      <th>PC13</th>\n",
              "    </tr>\n",
              "  </thead>\n",
              "  <tbody>\n",
              "    <tr>\n",
              "      <th>x1</th>\n",
              "      <td>0.144329</td>\n",
              "      <td>-0.483652</td>\n",
              "      <td>-0.207383</td>\n",
              "      <td>-0.017856</td>\n",
              "      <td>-0.265664</td>\n",
              "      <td>-0.213539</td>\n",
              "      <td>-0.056396</td>\n",
              "      <td>-0.396139</td>\n",
              "      <td>0.508619</td>\n",
              "      <td>0.211605</td>\n",
              "      <td>-0.225917</td>\n",
              "      <td>-0.266286</td>\n",
              "      <td>0.014970</td>\n",
              "    </tr>\n",
              "    <tr>\n",
              "      <th>x2</th>\n",
              "      <td>-0.245188</td>\n",
              "      <td>-0.224931</td>\n",
              "      <td>0.089013</td>\n",
              "      <td>0.536890</td>\n",
              "      <td>0.035214</td>\n",
              "      <td>-0.536814</td>\n",
              "      <td>0.420524</td>\n",
              "      <td>-0.065827</td>\n",
              "      <td>-0.075283</td>\n",
              "      <td>-0.309080</td>\n",
              "      <td>0.076486</td>\n",
              "      <td>0.121696</td>\n",
              "      <td>0.025964</td>\n",
              "    </tr>\n",
              "    <tr>\n",
              "      <th>x3</th>\n",
              "      <td>-0.002051</td>\n",
              "      <td>-0.316069</td>\n",
              "      <td>0.626224</td>\n",
              "      <td>-0.214176</td>\n",
              "      <td>-0.143025</td>\n",
              "      <td>-0.154475</td>\n",
              "      <td>-0.149171</td>\n",
              "      <td>0.170260</td>\n",
              "      <td>-0.307694</td>\n",
              "      <td>-0.027125</td>\n",
              "      <td>-0.498691</td>\n",
              "      <td>-0.049622</td>\n",
              "      <td>-0.141218</td>\n",
              "    </tr>\n",
              "    <tr>\n",
              "      <th>x4</th>\n",
              "      <td>-0.239320</td>\n",
              "      <td>0.010591</td>\n",
              "      <td>0.612080</td>\n",
              "      <td>0.060859</td>\n",
              "      <td>0.066103</td>\n",
              "      <td>0.100825</td>\n",
              "      <td>-0.286969</td>\n",
              "      <td>-0.427970</td>\n",
              "      <td>0.200449</td>\n",
              "      <td>0.052799</td>\n",
              "      <td>0.479314</td>\n",
              "      <td>-0.055743</td>\n",
              "      <td>0.091683</td>\n",
              "    </tr>\n",
              "    <tr>\n",
              "      <th>x5</th>\n",
              "      <td>0.141992</td>\n",
              "      <td>-0.299634</td>\n",
              "      <td>0.130757</td>\n",
              "      <td>-0.351797</td>\n",
              "      <td>0.727049</td>\n",
              "      <td>-0.038144</td>\n",
              "      <td>0.322883</td>\n",
              "      <td>0.156361</td>\n",
              "      <td>0.271403</td>\n",
              "      <td>0.067870</td>\n",
              "      <td>0.071289</td>\n",
              "      <td>0.062220</td>\n",
              "      <td>0.056774</td>\n",
              "    </tr>\n",
              "    <tr>\n",
              "      <th>x6</th>\n",
              "      <td>0.394661</td>\n",
              "      <td>-0.065040</td>\n",
              "      <td>0.146179</td>\n",
              "      <td>0.198068</td>\n",
              "      <td>-0.149318</td>\n",
              "      <td>0.084122</td>\n",
              "      <td>-0.027925</td>\n",
              "      <td>0.405934</td>\n",
              "      <td>0.286035</td>\n",
              "      <td>-0.320131</td>\n",
              "      <td>0.304341</td>\n",
              "      <td>-0.303882</td>\n",
              "      <td>-0.463908</td>\n",
              "    </tr>\n",
              "    <tr>\n",
              "      <th>x7</th>\n",
              "      <td>0.422934</td>\n",
              "      <td>0.003360</td>\n",
              "      <td>0.150682</td>\n",
              "      <td>0.152295</td>\n",
              "      <td>-0.109026</td>\n",
              "      <td>0.018920</td>\n",
              "      <td>-0.060685</td>\n",
              "      <td>0.187245</td>\n",
              "      <td>0.049578</td>\n",
              "      <td>-0.163151</td>\n",
              "      <td>-0.025694</td>\n",
              "      <td>-0.042899</td>\n",
              "      <td>0.832257</td>\n",
              "    </tr>\n",
              "    <tr>\n",
              "      <th>x8</th>\n",
              "      <td>-0.298533</td>\n",
              "      <td>-0.028779</td>\n",
              "      <td>0.170368</td>\n",
              "      <td>-0.203301</td>\n",
              "      <td>-0.500703</td>\n",
              "      <td>0.258594</td>\n",
              "      <td>0.595447</td>\n",
              "      <td>0.233285</td>\n",
              "      <td>0.195501</td>\n",
              "      <td>0.215535</td>\n",
              "      <td>0.116896</td>\n",
              "      <td>0.042352</td>\n",
              "      <td>0.114040</td>\n",
              "    </tr>\n",
              "    <tr>\n",
              "      <th>x9</th>\n",
              "      <td>0.313429</td>\n",
              "      <td>-0.039302</td>\n",
              "      <td>0.149454</td>\n",
              "      <td>0.399057</td>\n",
              "      <td>0.136860</td>\n",
              "      <td>0.533795</td>\n",
              "      <td>0.372139</td>\n",
              "      <td>-0.368227</td>\n",
              "      <td>-0.209145</td>\n",
              "      <td>0.134184</td>\n",
              "      <td>-0.237363</td>\n",
              "      <td>-0.095553</td>\n",
              "      <td>-0.116917</td>\n",
              "    </tr>\n",
              "    <tr>\n",
              "      <th>x10</th>\n",
              "      <td>-0.088617</td>\n",
              "      <td>-0.529996</td>\n",
              "      <td>-0.137306</td>\n",
              "      <td>0.065926</td>\n",
              "      <td>-0.076437</td>\n",
              "      <td>0.418644</td>\n",
              "      <td>-0.227712</td>\n",
              "      <td>0.033797</td>\n",
              "      <td>0.056218</td>\n",
              "      <td>-0.290775</td>\n",
              "      <td>0.031839</td>\n",
              "      <td>0.604222</td>\n",
              "      <td>-0.011993</td>\n",
              "    </tr>\n",
              "    <tr>\n",
              "      <th>x11</th>\n",
              "      <td>0.296715</td>\n",
              "      <td>0.279235</td>\n",
              "      <td>0.085222</td>\n",
              "      <td>-0.427771</td>\n",
              "      <td>-0.173615</td>\n",
              "      <td>-0.105983</td>\n",
              "      <td>0.232076</td>\n",
              "      <td>-0.436624</td>\n",
              "      <td>0.085828</td>\n",
              "      <td>-0.522399</td>\n",
              "      <td>-0.048212</td>\n",
              "      <td>0.259214</td>\n",
              "      <td>-0.089889</td>\n",
              "    </tr>\n",
              "    <tr>\n",
              "      <th>x12</th>\n",
              "      <td>0.376167</td>\n",
              "      <td>0.164496</td>\n",
              "      <td>0.166005</td>\n",
              "      <td>0.184121</td>\n",
              "      <td>-0.101161</td>\n",
              "      <td>-0.265851</td>\n",
              "      <td>-0.044764</td>\n",
              "      <td>0.078108</td>\n",
              "      <td>0.137227</td>\n",
              "      <td>0.523706</td>\n",
              "      <td>0.046423</td>\n",
              "      <td>0.600959</td>\n",
              "      <td>-0.156718</td>\n",
              "    </tr>\n",
              "    <tr>\n",
              "      <th>x13</th>\n",
              "      <td>0.286752</td>\n",
              "      <td>-0.364903</td>\n",
              "      <td>-0.126746</td>\n",
              "      <td>-0.232071</td>\n",
              "      <td>-0.157869</td>\n",
              "      <td>-0.119726</td>\n",
              "      <td>0.076805</td>\n",
              "      <td>-0.120023</td>\n",
              "      <td>-0.575786</td>\n",
              "      <td>0.162116</td>\n",
              "      <td>0.539270</td>\n",
              "      <td>-0.079402</td>\n",
              "      <td>0.014447</td>\n",
              "    </tr>\n",
              "  </tbody>\n",
              "</table>\n",
              "</div>\n",
              "      <button class=\"colab-df-convert\" onclick=\"convertToInteractive('df-b13e2e8f-396e-400b-afdb-2fb3d7af4f18')\"\n",
              "              title=\"Convert this dataframe to an interactive table.\"\n",
              "              style=\"display:none;\">\n",
              "        \n",
              "  <svg xmlns=\"http://www.w3.org/2000/svg\" height=\"24px\"viewBox=\"0 0 24 24\"\n",
              "       width=\"24px\">\n",
              "    <path d=\"M0 0h24v24H0V0z\" fill=\"none\"/>\n",
              "    <path d=\"M18.56 5.44l.94 2.06.94-2.06 2.06-.94-2.06-.94-.94-2.06-.94 2.06-2.06.94zm-11 1L8.5 8.5l.94-2.06 2.06-.94-2.06-.94L8.5 2.5l-.94 2.06-2.06.94zm10 10l.94 2.06.94-2.06 2.06-.94-2.06-.94-.94-2.06-.94 2.06-2.06.94z\"/><path d=\"M17.41 7.96l-1.37-1.37c-.4-.4-.92-.59-1.43-.59-.52 0-1.04.2-1.43.59L10.3 9.45l-7.72 7.72c-.78.78-.78 2.05 0 2.83L4 21.41c.39.39.9.59 1.41.59.51 0 1.02-.2 1.41-.59l7.78-7.78 2.81-2.81c.8-.78.8-2.07 0-2.86zM5.41 20L4 18.59l7.72-7.72 1.47 1.35L5.41 20z\"/>\n",
              "  </svg>\n",
              "      </button>\n",
              "      \n",
              "  <style>\n",
              "    .colab-df-container {\n",
              "      display:flex;\n",
              "      flex-wrap:wrap;\n",
              "      gap: 12px;\n",
              "    }\n",
              "\n",
              "    .colab-df-convert {\n",
              "      background-color: #E8F0FE;\n",
              "      border: none;\n",
              "      border-radius: 50%;\n",
              "      cursor: pointer;\n",
              "      display: none;\n",
              "      fill: #1967D2;\n",
              "      height: 32px;\n",
              "      padding: 0 0 0 0;\n",
              "      width: 32px;\n",
              "    }\n",
              "\n",
              "    .colab-df-convert:hover {\n",
              "      background-color: #E2EBFA;\n",
              "      box-shadow: 0px 1px 2px rgba(60, 64, 67, 0.3), 0px 1px 3px 1px rgba(60, 64, 67, 0.15);\n",
              "      fill: #174EA6;\n",
              "    }\n",
              "\n",
              "    [theme=dark] .colab-df-convert {\n",
              "      background-color: #3B4455;\n",
              "      fill: #D2E3FC;\n",
              "    }\n",
              "\n",
              "    [theme=dark] .colab-df-convert:hover {\n",
              "      background-color: #434B5C;\n",
              "      box-shadow: 0px 1px 3px 1px rgba(0, 0, 0, 0.15);\n",
              "      filter: drop-shadow(0px 1px 2px rgba(0, 0, 0, 0.3));\n",
              "      fill: #FFFFFF;\n",
              "    }\n",
              "  </style>\n",
              "\n",
              "      <script>\n",
              "        const buttonEl =\n",
              "          document.querySelector('#df-b13e2e8f-396e-400b-afdb-2fb3d7af4f18 button.colab-df-convert');\n",
              "        buttonEl.style.display =\n",
              "          google.colab.kernel.accessAllowed ? 'block' : 'none';\n",
              "\n",
              "        async function convertToInteractive(key) {\n",
              "          const element = document.querySelector('#df-b13e2e8f-396e-400b-afdb-2fb3d7af4f18');\n",
              "          const dataTable =\n",
              "            await google.colab.kernel.invokeFunction('convertToInteractive',\n",
              "                                                     [key], {});\n",
              "          if (!dataTable) return;\n",
              "\n",
              "          const docLinkHtml = 'Like what you see? Visit the ' +\n",
              "            '<a target=\"_blank\" href=https://colab.research.google.com/notebooks/data_table.ipynb>data table notebook</a>'\n",
              "            + ' to learn more about interactive tables.';\n",
              "          element.innerHTML = '';\n",
              "          dataTable['output_type'] = 'display_data';\n",
              "          await google.colab.output.renderOutput(dataTable, element);\n",
              "          const docLink = document.createElement('div');\n",
              "          docLink.innerHTML = docLinkHtml;\n",
              "          element.appendChild(docLink);\n",
              "        }\n",
              "      </script>\n",
              "    </div>\n",
              "  </div>\n",
              "  "
            ]
          },
          "metadata": {},
          "execution_count": 11
        }
      ]
    },
    {
      "cell_type": "markdown",
      "source": [
        "## Verification of the effectiveness of classifier-based dimension reduction for different number of principal components"
      ],
      "metadata": {
        "id": "XKkhBwEHFdac"
      }
    },
    {
      "cell_type": "code",
      "source": [
        "for n in range (1,14):\n",
        "  count_pc = n\n",
        "  bench = pca.components_[:count_pc].T\n",
        "  component = [\"PC\"+str(i) for i in range(1, count_pc+1)]\n",
        "  bench_df = pd.DataFrame(bench, columns = component, index=satysf.columns[:-1])\n",
        "  X_PCA = pca.transform(X)\n",
        "  X_PCAn = X_PCA[:,0:count_pc]\n",
        "  X_PCAn_train, X_PCAn_test, y_PCAn_train, y_PCAn_test = train_test_split(X_PCAn, y, test_size=0.30)\n",
        "  gm2 = GaussianNB()\n",
        "  gm2.fit(X_PCAn_train, y_PCAn_train)\n",
        "  print(\"Accuracy of the classifier on the training set: \", gm2.score(X_PCAn_train, y_PCAn_train), \" for a number of components equal to\", n)\n",
        "  y_PCAn_pred = gm2.predict(X_PCAn_test)\n",
        "  print(classification_report(y_PCAn_test, y_PCAn_pred))\n",
        "  confusion_matrix = metrics.confusion_matrix(y_PCAn_test,y_PCAn_pred)\n",
        "  cm_display = metrics.ConfusionMatrixDisplay(confusion_matrix = confusion_matrix, display_labels = [1,2,3])\n",
        "  cm_display.plot()\n",
        "  plt.show()\n",
        "\n",
        "\n",
        "\n"
      ],
      "metadata": {
        "id": "X-NJOrTlcrFA",
        "colab": {
          "base_uri": "https://localhost:8080/",
          "height": 1000
        },
        "outputId": "c582a511-0743-4a67-8f6e-249efbe45471"
      },
      "execution_count": 12,
      "outputs": [
        {
          "output_type": "stream",
          "name": "stdout",
          "text": [
            "Accuracy of the classifier on the training set:  0.8145161290322581  for a number of components equal to 1\n",
            "              precision    recall  f1-score   support\n",
            "\n",
            "           1       0.83      0.90      0.86        21\n",
            "           2       0.89      0.76      0.82        21\n",
            "           3       0.92      1.00      0.96        12\n",
            "\n",
            "    accuracy                           0.87        54\n",
            "   macro avg       0.88      0.89      0.88        54\n",
            "weighted avg       0.87      0.87      0.87        54\n",
            "\n"
          ]
        },
        {
          "output_type": "display_data",
          "data": {
            "text/plain": [
              "<Figure size 432x288 with 2 Axes>"
            ],
            "image/png": "[encoded data removed]"
          },
          "metadata": {}
        },
        {
          "output_type": "stream",
          "name": "stdout",
          "text": [
            "Accuracy of the classifier on the training set:  0.967741935483871  for a number of components equal to 2\n",
            "              precision    recall  f1-score   support\n",
            "\n",
            "           1       0.93      1.00      0.97        14\n",
            "           2       1.00      0.96      0.98        24\n",
            "           3       1.00      1.00      1.00        16\n",
            "\n",
            "    accuracy                           0.98        54\n",
            "   macro avg       0.98      0.99      0.98        54\n",
            "weighted avg       0.98      0.98      0.98        54\n",
            "\n"
          ]
        },
        {
          "output_type": "display_data",
          "data": {
            "text/plain": [
              "<Figure size 432x288 with 2 Axes>"
            ],
            "image/png": "[encoded data removed]"
          },
          "metadata": {}
        },
        {
          "output_type": "stream",
          "name": "stdout",
          "text": [
            "Accuracy of the classifier on the training set:  0.9838709677419355  for a number of components equal to 3\n",
            "              precision    recall  f1-score   support\n",
            "\n",
            "           1       1.00      0.88      0.93        16\n",
            "           2       0.92      0.96      0.94        24\n",
            "           3       0.93      1.00      0.97        14\n",
            "\n",
            "    accuracy                           0.94        54\n",
            "   macro avg       0.95      0.94      0.95        54\n",
            "weighted avg       0.95      0.94      0.94        54\n",
            "\n"
          ]
        },
        {
          "output_type": "display_data",
          "data": {
            "text/plain": [
              "<Figure size 432x288 with 2 Axes>"
            ],
            "image/png": "[encoded data removed]"
          },
          "metadata": {}
        },
        {
          "output_type": "stream",
          "name": "stdout",
          "text": [
            "Accuracy of the classifier on the training set:  0.9838709677419355  for a number of components equal to 4\n",
            "              precision    recall  f1-score   support\n",
            "\n",
            "           1       1.00      0.74      0.85        19\n",
            "           2       0.79      0.95      0.86        20\n",
            "           3       0.94      1.00      0.97        15\n",
            "\n",
            "    accuracy                           0.89        54\n",
            "   macro avg       0.91      0.90      0.89        54\n",
            "weighted avg       0.91      0.89      0.89        54\n",
            "\n"
          ]
        },
        {
          "output_type": "display_data",
          "data": {
            "text/plain": [
              "<Figure size 432x288 with 2 Axes>"
            ],
            "image/png": "[encoded data removed]"
          },
          "metadata": {}
        },
        {
          "output_type": "stream",
          "name": "stdout",
          "text": [
            "Accuracy of the classifier on the training set:  0.967741935483871  for a number of components equal to 5\n",
            "              precision    recall  f1-score   support\n",
            "\n",
            "           1       1.00      1.00      1.00        11\n",
            "           2       1.00      1.00      1.00        20\n",
            "           3       1.00      1.00      1.00        23\n",
            "\n",
            "    accuracy                           1.00        54\n",
            "   macro avg       1.00      1.00      1.00        54\n",
            "weighted avg       1.00      1.00      1.00        54\n",
            "\n"
          ]
        },
        {
          "output_type": "display_data",
          "data": {
            "text/plain": [
              "<Figure size 432x288 with 2 Axes>"
            ],
            "image/png": "[encoded data removed]"
          },
          "metadata": {}
        },
        {
          "output_type": "stream",
          "name": "stdout",
          "text": [
            "Accuracy of the classifier on the training set:  1.0  for a number of components equal to 6\n",
            "              precision    recall  f1-score   support\n",
            "\n",
            "           1       1.00      1.00      1.00        16\n",
            "           2       1.00      0.96      0.98        24\n",
            "           3       0.93      1.00      0.97        14\n",
            "\n",
            "    accuracy                           0.98        54\n",
            "   macro avg       0.98      0.99      0.98        54\n",
            "weighted avg       0.98      0.98      0.98        54\n",
            "\n"
          ]
        },
        {
          "output_type": "display_data",
          "data": {
            "text/plain": [
              "<Figure size 432x288 with 2 Axes>"
            ],
            "image/png": "[encoded data removed]"
          },
          "metadata": {}
        },
        {
          "output_type": "stream",
          "name": "stdout",
          "text": [
            "Accuracy of the classifier on the training set:  0.9838709677419355  for a number of components equal to 7\n",
            "              precision    recall  f1-score   support\n",
            "\n",
            "           1       1.00      0.90      0.95        20\n",
            "           2       0.92      1.00      0.96        22\n",
            "           3       1.00      1.00      1.00        12\n",
            "\n",
            "    accuracy                           0.96        54\n",
            "   macro avg       0.97      0.97      0.97        54\n",
            "weighted avg       0.97      0.96      0.96        54\n",
            "\n"
          ]
        },
        {
          "output_type": "display_data",
          "data": {
            "text/plain": [
              "<Figure size 432x288 with 2 Axes>"
            ],
            "image/png": "[encoded data removed]"
          },
          "metadata": {}
        },
        {
          "output_type": "stream",
          "name": "stdout",
          "text": [
            "Accuracy of the classifier on the training set:  0.9838709677419355  for a number of components equal to 8\n",
            "              precision    recall  f1-score   support\n",
            "\n",
            "           1       1.00      1.00      1.00        17\n",
            "           2       1.00      1.00      1.00        20\n",
            "           3       1.00      1.00      1.00        17\n",
            "\n",
            "    accuracy                           1.00        54\n",
            "   macro avg       1.00      1.00      1.00        54\n",
            "weighted avg       1.00      1.00      1.00        54\n",
            "\n"
          ]
        },
        {
          "output_type": "display_data",
          "data": {
            "text/plain": [
              "<Figure size 432x288 with 2 Axes>"
            ],
            "image/png": "[encoded data removed]"
          },
          "metadata": {}
        },
        {
          "output_type": "stream",
          "name": "stdout",
          "text": [
            "Accuracy of the classifier on the training set:  0.9838709677419355  for a number of components equal to 9\n",
            "              precision    recall  f1-score   support\n",
            "\n",
            "           1       1.00      1.00      1.00        13\n",
            "           2       0.96      1.00      0.98        23\n",
            "           3       1.00      0.94      0.97        18\n",
            "\n",
            "    accuracy                           0.98        54\n",
            "   macro avg       0.99      0.98      0.98        54\n",
            "weighted avg       0.98      0.98      0.98        54\n",
            "\n"
          ]
        },
        {
          "output_type": "display_data",
          "data": {
            "text/plain": [
              "<Figure size 432x288 with 2 Axes>"
            ],
            "image/png": "[encoded data removed]"
          },
          "metadata": {}
        },
        {
          "output_type": "stream",
          "name": "stdout",
          "text": [
            "Accuracy of the classifier on the training set:  0.9919354838709677  for a number of components equal to 10\n",
            "              precision    recall  f1-score   support\n",
            "\n",
            "           1       1.00      0.94      0.97        18\n",
            "           2       0.95      0.95      0.95        22\n",
            "           3       0.93      1.00      0.97        14\n",
            "\n",
            "    accuracy                           0.96        54\n",
            "   macro avg       0.96      0.97      0.96        54\n",
            "weighted avg       0.96      0.96      0.96        54\n",
            "\n"
          ]
        },
        {
          "output_type": "display_data",
          "data": {
            "text/plain": [
              "<Figure size 432x288 with 2 Axes>"
            ],
            "image/png": "[encoded data removed]"
          },
          "metadata": {}
        },
        {
          "output_type": "stream",
          "name": "stdout",
          "text": [
            "Accuracy of the classifier on the training set:  0.9919354838709677  for a number of components equal to 11\n",
            "              precision    recall  f1-score   support\n",
            "\n",
            "           1       1.00      1.00      1.00        20\n",
            "           2       1.00      1.00      1.00        24\n",
            "           3       1.00      1.00      1.00        10\n",
            "\n",
            "    accuracy                           1.00        54\n",
            "   macro avg       1.00      1.00      1.00        54\n",
            "weighted avg       1.00      1.00      1.00        54\n",
            "\n"
          ]
        },
        {
          "output_type": "display_data",
          "data": {
            "text/plain": [
              "<Figure size 432x288 with 2 Axes>"
            ],
            "image/png": "[encoded data removed]"
          },
          "metadata": {}
        },
        {
          "output_type": "stream",
          "name": "stdout",
          "text": [
            "Accuracy of the classifier on the training set:  0.9838709677419355  for a number of components equal to 12\n",
            "              precision    recall  f1-score   support\n",
            "\n",
            "           1       1.00      1.00      1.00        18\n",
            "           2       1.00      1.00      1.00        18\n",
            "           3       1.00      1.00      1.00        18\n",
            "\n",
            "    accuracy                           1.00        54\n",
            "   macro avg       1.00      1.00      1.00        54\n",
            "weighted avg       1.00      1.00      1.00        54\n",
            "\n"
          ]
        },
        {
          "output_type": "display_data",
          "data": {
            "text/plain": [
              "<Figure size 432x288 with 2 Axes>"
            ],
            "image/png": "[encoded data removed]"
          },
          "metadata": {}
        },
        {
          "output_type": "stream",
          "name": "stdout",
          "text": [
            "Accuracy of the classifier on the training set:  0.9919354838709677  for a number of components equal to 13\n",
            "              precision    recall  f1-score   support\n",
            "\n",
            "           1       1.00      1.00      1.00        16\n",
            "           2       1.00      0.96      0.98        23\n",
            "           3       0.94      1.00      0.97        15\n",
            "\n",
            "    accuracy                           0.98        54\n",
            "   macro avg       0.98      0.99      0.98        54\n",
            "weighted avg       0.98      0.98      0.98        54\n",
            "\n"
          ]
        },
        {
          "output_type": "display_data",
          "data": {
            "text/plain": [
              "<Figure size 432x288 with 2 Axes>"
            ],
            "image/png": "[encoded data removed]"
          },
          "metadata": {}
        }
      ]
    },
    {
      "cell_type": "markdown",
      "source": [
        "I received the following results:\n",
        "- for one head component accuracy = 87%. \n",
        "Such accuracy is quite high considering that we reduce the size of the base by 92%\n",
        "\n",
        "- for two principal components accuracy = 98%\n",
        "The resulting base is 15% of the initial base, and in addition, the accuracy of the classifier is \n",
        "even better for two components.\n",
        "\n",
        "- for three principal components accuracy = 94%\n",
        "\n",
        "Analysis can be carried out for each of the components.\n",
        "\n",
        "It follows from the above that the reduction of dimensions will not adversely affect the results obtained, provided that the number of components is greater than 1."
      ],
      "metadata": {
        "id": "eTO-ShH7--Me"
      }
    },
    {
      "cell_type": "markdown",
      "source": [
        "However, one must keep in mind that there are 178 objects in the set, and it is a set that was probably created to give good results in classifications and other operations on the set.\\\n",
        " You have to reckon with the fact that performing such calculations on other, real-world sets, the classification accuracy will not be as good."
      ],
      "metadata": {
        "id": "AcUkxXxPTeFf"
      }
    }
  ]
}